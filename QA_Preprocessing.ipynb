{
  "cells": [
    {
      "cell_type": "code",
      "execution_count": null,
      "metadata": {
        "colab": {
          "base_uri": "https://localhost:8080/"
        },
        "collapsed": true,
        "id": "BkAlwCqAcsC5",
        "outputId": "82b3da65-4823-4eb9-a11b-8c146288c30b"
      },
      "outputs": [
        {
          "output_type": "stream",
          "name": "stdout",
          "text": [
            "Looking in indexes: https://pypi.org/simple, https://us-python.pkg.dev/colab-wheels/public/simple/\n",
            "Requirement already satisfied: transformers in /usr/local/lib/python3.7/dist-packages (4.24.0)\n",
            "Requirement already satisfied: importlib-metadata in /usr/local/lib/python3.7/dist-packages (from transformers) (4.13.0)\n",
            "Requirement already satisfied: huggingface-hub<1.0,>=0.10.0 in /usr/local/lib/python3.7/dist-packages (from transformers) (0.10.1)\n",
            "Requirement already satisfied: tokenizers!=0.11.3,<0.14,>=0.11.1 in /usr/local/lib/python3.7/dist-packages (from transformers) (0.13.2)\n",
            "Requirement already satisfied: pyyaml>=5.1 in /usr/local/lib/python3.7/dist-packages (from transformers) (6.0)\n",
            "Requirement already satisfied: filelock in /usr/local/lib/python3.7/dist-packages (from transformers) (3.8.0)\n",
            "Requirement already satisfied: regex!=2019.12.17 in /usr/local/lib/python3.7/dist-packages (from transformers) (2022.6.2)\n",
            "Requirement already satisfied: requests in /usr/local/lib/python3.7/dist-packages (from transformers) (2.23.0)\n",
            "Requirement already satisfied: packaging>=20.0 in /usr/local/lib/python3.7/dist-packages (from transformers) (21.3)\n",
            "Requirement already satisfied: tqdm>=4.27 in /usr/local/lib/python3.7/dist-packages (from transformers) (4.64.1)\n",
            "Requirement already satisfied: numpy>=1.17 in /usr/local/lib/python3.7/dist-packages (from transformers) (1.21.6)\n",
            "Requirement already satisfied: typing-extensions>=3.7.4.3 in /usr/local/lib/python3.7/dist-packages (from huggingface-hub<1.0,>=0.10.0->transformers) (4.1.1)\n",
            "Requirement already satisfied: pyparsing!=3.0.5,>=2.0.2 in /usr/local/lib/python3.7/dist-packages (from packaging>=20.0->transformers) (3.0.9)\n",
            "Requirement already satisfied: zipp>=0.5 in /usr/local/lib/python3.7/dist-packages (from importlib-metadata->transformers) (3.10.0)\n",
            "Requirement already satisfied: chardet<4,>=3.0.2 in /usr/local/lib/python3.7/dist-packages (from requests->transformers) (3.0.4)\n",
            "Requirement already satisfied: certifi>=2017.4.17 in /usr/local/lib/python3.7/dist-packages (from requests->transformers) (2022.9.24)\n",
            "Requirement already satisfied: urllib3!=1.25.0,!=1.25.1,<1.26,>=1.21.1 in /usr/local/lib/python3.7/dist-packages (from requests->transformers) (1.25.11)\n",
            "Requirement already satisfied: idna<3,>=2.5 in /usr/local/lib/python3.7/dist-packages (from requests->transformers) (2.10)\n",
            "Looking in indexes: https://pypi.org/simple, https://us-python.pkg.dev/colab-wheels/public/simple/\n",
            "Requirement already satisfied: datasets in /usr/local/lib/python3.7/dist-packages (2.6.1)\n",
            "Requirement already satisfied: huggingface-hub<1.0.0,>=0.2.0 in /usr/local/lib/python3.7/dist-packages (from datasets) (0.10.1)\n",
            "Requirement already satisfied: responses<0.19 in /usr/local/lib/python3.7/dist-packages (from datasets) (0.18.0)\n",
            "Requirement already satisfied: pyyaml>=5.1 in /usr/local/lib/python3.7/dist-packages (from datasets) (6.0)\n",
            "Requirement already satisfied: pandas in /usr/local/lib/python3.7/dist-packages (from datasets) (1.3.5)\n",
            "Requirement already satisfied: fsspec[http]>=2021.11.1 in /usr/local/lib/python3.7/dist-packages (from datasets) (2022.10.0)\n",
            "Requirement already satisfied: tqdm>=4.62.1 in /usr/local/lib/python3.7/dist-packages (from datasets) (4.64.1)\n",
            "Requirement already satisfied: requests>=2.19.0 in /usr/local/lib/python3.7/dist-packages (from datasets) (2.23.0)\n",
            "Requirement already satisfied: dill<0.3.6 in /usr/local/lib/python3.7/dist-packages (from datasets) (0.3.5.1)\n",
            "Requirement already satisfied: importlib-metadata in /usr/local/lib/python3.7/dist-packages (from datasets) (4.13.0)\n",
            "Requirement already satisfied: pyarrow>=6.0.0 in /usr/local/lib/python3.7/dist-packages (from datasets) (6.0.1)\n",
            "Requirement already satisfied: numpy>=1.17 in /usr/local/lib/python3.7/dist-packages (from datasets) (1.21.6)\n",
            "Requirement already satisfied: packaging in /usr/local/lib/python3.7/dist-packages (from datasets) (21.3)\n",
            "Requirement already satisfied: aiohttp in /usr/local/lib/python3.7/dist-packages (from datasets) (3.8.3)\n",
            "Requirement already satisfied: xxhash in /usr/local/lib/python3.7/dist-packages (from datasets) (3.1.0)\n",
            "Requirement already satisfied: multiprocess in /usr/local/lib/python3.7/dist-packages (from datasets) (0.70.13)\n",
            "Requirement already satisfied: frozenlist>=1.1.1 in /usr/local/lib/python3.7/dist-packages (from aiohttp->datasets) (1.3.1)\n",
            "Requirement already satisfied: typing-extensions>=3.7.4 in /usr/local/lib/python3.7/dist-packages (from aiohttp->datasets) (4.1.1)\n",
            "Requirement already satisfied: charset-normalizer<3.0,>=2.0 in /usr/local/lib/python3.7/dist-packages (from aiohttp->datasets) (2.1.1)\n",
            "Requirement already satisfied: multidict<7.0,>=4.5 in /usr/local/lib/python3.7/dist-packages (from aiohttp->datasets) (6.0.2)\n",
            "Requirement already satisfied: aiosignal>=1.1.2 in /usr/local/lib/python3.7/dist-packages (from aiohttp->datasets) (1.2.0)\n",
            "Requirement already satisfied: asynctest==0.13.0 in /usr/local/lib/python3.7/dist-packages (from aiohttp->datasets) (0.13.0)\n",
            "Requirement already satisfied: attrs>=17.3.0 in /usr/local/lib/python3.7/dist-packages (from aiohttp->datasets) (22.1.0)\n",
            "Requirement already satisfied: async-timeout<5.0,>=4.0.0a3 in /usr/local/lib/python3.7/dist-packages (from aiohttp->datasets) (4.0.2)\n",
            "Requirement already satisfied: yarl<2.0,>=1.0 in /usr/local/lib/python3.7/dist-packages (from aiohttp->datasets) (1.8.1)\n",
            "Requirement already satisfied: filelock in /usr/local/lib/python3.7/dist-packages (from huggingface-hub<1.0.0,>=0.2.0->datasets) (3.8.0)\n",
            "Requirement already satisfied: pyparsing!=3.0.5,>=2.0.2 in /usr/local/lib/python3.7/dist-packages (from packaging->datasets) (3.0.9)\n",
            "Requirement already satisfied: idna<3,>=2.5 in /usr/local/lib/python3.7/dist-packages (from requests>=2.19.0->datasets) (2.10)\n",
            "Requirement already satisfied: chardet<4,>=3.0.2 in /usr/local/lib/python3.7/dist-packages (from requests>=2.19.0->datasets) (3.0.4)\n",
            "Requirement already satisfied: urllib3!=1.25.0,!=1.25.1,<1.26,>=1.21.1 in /usr/local/lib/python3.7/dist-packages (from requests>=2.19.0->datasets) (1.25.11)\n",
            "Requirement already satisfied: certifi>=2017.4.17 in /usr/local/lib/python3.7/dist-packages (from requests>=2.19.0->datasets) (2022.9.24)\n",
            "Requirement already satisfied: zipp>=0.5 in /usr/local/lib/python3.7/dist-packages (from importlib-metadata->datasets) (3.10.0)\n",
            "Requirement already satisfied: pytz>=2017.3 in /usr/local/lib/python3.7/dist-packages (from pandas->datasets) (2022.5)\n",
            "Requirement already satisfied: python-dateutil>=2.7.3 in /usr/local/lib/python3.7/dist-packages (from pandas->datasets) (2.8.2)\n",
            "Requirement already satisfied: six>=1.5 in /usr/local/lib/python3.7/dist-packages (from python-dateutil>=2.7.3->pandas->datasets) (1.15.0)\n",
            "Looking in indexes: https://pypi.org/simple, https://us-python.pkg.dev/colab-wheels/public/simple/\n",
            "Requirement already satisfied: evaluate in /usr/local/lib/python3.7/dist-packages (0.3.0)\n",
            "Requirement already satisfied: fsspec[http]>=2021.05.0 in /usr/local/lib/python3.7/dist-packages (from evaluate) (2022.10.0)\n",
            "Requirement already satisfied: dill in /usr/local/lib/python3.7/dist-packages (from evaluate) (0.3.5.1)\n",
            "Requirement already satisfied: datasets>=2.0.0 in /usr/local/lib/python3.7/dist-packages (from evaluate) (2.6.1)\n",
            "Requirement already satisfied: requests>=2.19.0 in /usr/local/lib/python3.7/dist-packages (from evaluate) (2.23.0)\n",
            "Requirement already satisfied: pandas in /usr/local/lib/python3.7/dist-packages (from evaluate) (1.3.5)\n",
            "Requirement already satisfied: xxhash in /usr/local/lib/python3.7/dist-packages (from evaluate) (3.1.0)\n",
            "Requirement already satisfied: responses<0.19 in /usr/local/lib/python3.7/dist-packages (from evaluate) (0.18.0)\n",
            "Requirement already satisfied: tqdm>=4.62.1 in /usr/local/lib/python3.7/dist-packages (from evaluate) (4.64.1)\n",
            "Requirement already satisfied: numpy>=1.17 in /usr/local/lib/python3.7/dist-packages (from evaluate) (1.21.6)\n",
            "Requirement already satisfied: packaging in /usr/local/lib/python3.7/dist-packages (from evaluate) (21.3)\n",
            "Requirement already satisfied: multiprocess in /usr/local/lib/python3.7/dist-packages (from evaluate) (0.70.13)\n",
            "Requirement already satisfied: huggingface-hub>=0.7.0 in /usr/local/lib/python3.7/dist-packages (from evaluate) (0.10.1)\n",
            "Requirement already satisfied: importlib-metadata in /usr/local/lib/python3.7/dist-packages (from evaluate) (4.13.0)\n",
            "Requirement already satisfied: pyyaml>=5.1 in /usr/local/lib/python3.7/dist-packages (from datasets>=2.0.0->evaluate) (6.0)\n",
            "Requirement already satisfied: aiohttp in /usr/local/lib/python3.7/dist-packages (from datasets>=2.0.0->evaluate) (3.8.3)\n",
            "Requirement already satisfied: pyarrow>=6.0.0 in /usr/local/lib/python3.7/dist-packages (from datasets>=2.0.0->evaluate) (6.0.1)\n",
            "Requirement already satisfied: frozenlist>=1.1.1 in /usr/local/lib/python3.7/dist-packages (from aiohttp->datasets>=2.0.0->evaluate) (1.3.1)\n",
            "Requirement already satisfied: aiosignal>=1.1.2 in /usr/local/lib/python3.7/dist-packages (from aiohttp->datasets>=2.0.0->evaluate) (1.2.0)\n",
            "Requirement already satisfied: yarl<2.0,>=1.0 in /usr/local/lib/python3.7/dist-packages (from aiohttp->datasets>=2.0.0->evaluate) (1.8.1)\n",
            "Requirement already satisfied: asynctest==0.13.0 in /usr/local/lib/python3.7/dist-packages (from aiohttp->datasets>=2.0.0->evaluate) (0.13.0)\n",
            "Requirement already satisfied: attrs>=17.3.0 in /usr/local/lib/python3.7/dist-packages (from aiohttp->datasets>=2.0.0->evaluate) (22.1.0)\n",
            "Requirement already satisfied: typing-extensions>=3.7.4 in /usr/local/lib/python3.7/dist-packages (from aiohttp->datasets>=2.0.0->evaluate) (4.1.1)\n",
            "Requirement already satisfied: async-timeout<5.0,>=4.0.0a3 in /usr/local/lib/python3.7/dist-packages (from aiohttp->datasets>=2.0.0->evaluate) (4.0.2)\n",
            "Requirement already satisfied: charset-normalizer<3.0,>=2.0 in /usr/local/lib/python3.7/dist-packages (from aiohttp->datasets>=2.0.0->evaluate) (2.1.1)\n",
            "Requirement already satisfied: multidict<7.0,>=4.5 in /usr/local/lib/python3.7/dist-packages (from aiohttp->datasets>=2.0.0->evaluate) (6.0.2)\n",
            "Requirement already satisfied: filelock in /usr/local/lib/python3.7/dist-packages (from huggingface-hub>=0.7.0->evaluate) (3.8.0)\n",
            "Requirement already satisfied: pyparsing!=3.0.5,>=2.0.2 in /usr/local/lib/python3.7/dist-packages (from packaging->evaluate) (3.0.9)\n",
            "Requirement already satisfied: urllib3!=1.25.0,!=1.25.1,<1.26,>=1.21.1 in /usr/local/lib/python3.7/dist-packages (from requests>=2.19.0->evaluate) (1.25.11)\n",
            "Requirement already satisfied: idna<3,>=2.5 in /usr/local/lib/python3.7/dist-packages (from requests>=2.19.0->evaluate) (2.10)\n",
            "Requirement already satisfied: chardet<4,>=3.0.2 in /usr/local/lib/python3.7/dist-packages (from requests>=2.19.0->evaluate) (3.0.4)\n",
            "Requirement already satisfied: certifi>=2017.4.17 in /usr/local/lib/python3.7/dist-packages (from requests>=2.19.0->evaluate) (2022.9.24)\n",
            "Requirement already satisfied: zipp>=0.5 in /usr/local/lib/python3.7/dist-packages (from importlib-metadata->evaluate) (3.10.0)\n",
            "Requirement already satisfied: python-dateutil>=2.7.3 in /usr/local/lib/python3.7/dist-packages (from pandas->evaluate) (2.8.2)\n",
            "Requirement already satisfied: pytz>=2017.3 in /usr/local/lib/python3.7/dist-packages (from pandas->evaluate) (2022.5)\n",
            "Requirement already satisfied: six>=1.5 in /usr/local/lib/python3.7/dist-packages (from python-dateutil>=2.7.3->pandas->evaluate) (1.15.0)\n"
          ]
        }
      ],
      "source": [
        "!pip install transformers\n",
        "!pip install datasets\n",
        "!pip install evaluate"
      ]
    },
    {
      "cell_type": "code",
      "execution_count": 2,
      "metadata": {
        "id": "T5G85FsFdnlF",
        "colab": {
          "base_uri": "https://localhost:8080/",
          "height": 383
        },
        "outputId": "b7a4f887-c2c3-4561-f1ea-07498df2056b"
      },
      "outputs": [
        {
          "output_type": "error",
          "ename": "ModuleNotFoundError",
          "evalue": "ignored",
          "traceback": [
            "\u001b[0;31m---------------------------------------------------------------------------\u001b[0m",
            "\u001b[0;31mModuleNotFoundError\u001b[0m                       Traceback (most recent call last)",
            "\u001b[0;32m<ipython-input-2-e5ff41c76bd4>\u001b[0m in \u001b[0;36m<module>\u001b[0;34m\u001b[0m\n\u001b[1;32m      4\u001b[0m \u001b[0;32mimport\u001b[0m \u001b[0mpandas\u001b[0m \u001b[0;32mas\u001b[0m \u001b[0mpd\u001b[0m\u001b[0;34m\u001b[0m\u001b[0;34m\u001b[0m\u001b[0m\n\u001b[1;32m      5\u001b[0m \u001b[0;34m\u001b[0m\u001b[0m\n\u001b[0;32m----> 6\u001b[0;31m \u001b[0;32mimport\u001b[0m \u001b[0mevaluate\u001b[0m\u001b[0;34m\u001b[0m\u001b[0;34m\u001b[0m\u001b[0m\n\u001b[0m\u001b[1;32m      7\u001b[0m \u001b[0;32mfrom\u001b[0m \u001b[0mtransformers\u001b[0m \u001b[0;32mimport\u001b[0m \u001b[0mAutoModelForQuestionAnswering\u001b[0m\u001b[0;34m\u001b[0m\u001b[0;34m\u001b[0m\u001b[0m\n\u001b[1;32m      8\u001b[0m \u001b[0;32mfrom\u001b[0m \u001b[0mtransformers\u001b[0m \u001b[0;32mimport\u001b[0m \u001b[0mTrainer\u001b[0m\u001b[0;34m\u001b[0m\u001b[0;34m\u001b[0m\u001b[0m\n",
            "\u001b[0;31mModuleNotFoundError\u001b[0m: No module named 'evaluate'",
            "",
            "\u001b[0;31m---------------------------------------------------------------------------\u001b[0;32m\nNOTE: If your import is failing due to a missing package, you can\nmanually install dependencies using either !pip or !apt.\n\nTo view examples of installing some common dependencies, click the\n\"Open Examples\" button below.\n\u001b[0;31m---------------------------------------------------------------------------\u001b[0m\n"
          ],
          "errorDetails": {
            "actions": [
              {
                "action": "open_url",
                "actionText": "Open Examples",
                "url": "/notebooks/snippets/importing_libraries.ipynb"
              }
            ]
          }
        }
      ],
      "source": [
        "import collections\n",
        "\n",
        "import numpy as np\n",
        "import pandas as pd\n",
        "\n",
        "import evaluate\n",
        "from transformers import AutoModelForQuestionAnswering\n",
        "from transformers import Trainer\n",
        "from transformers import TrainingArguments\n",
        "from tqdm.auto import tqdm\n",
        "import torch"
      ]
    },
    {
      "cell_type": "code",
      "source": [
        "!nvidia-smi\n",
        "\n",
        "torch.cuda.is_available()"
      ],
      "metadata": {
        "colab": {
          "base_uri": "https://localhost:8080/"
        },
        "id": "sO8vuCd09-bb",
        "outputId": "7ca2f42e-440b-4015-ec37-2b76a06a9d67"
      },
      "execution_count": null,
      "outputs": [
        {
          "output_type": "stream",
          "name": "stdout",
          "text": [
            "NVIDIA-SMI has failed because it couldn't communicate with the NVIDIA driver. Make sure that the latest NVIDIA driver is installed and running.\n",
            "\n"
          ]
        },
        {
          "output_type": "execute_result",
          "data": {
            "text/plain": [
              "False"
            ]
          },
          "metadata": {},
          "execution_count": 3
        }
      ]
    },
    {
      "cell_type": "markdown",
      "source": [
        "# Set Experiment Parameters"
      ],
      "metadata": {
        "id": "ZcXxIHN1Jlmu"
      }
    },
    {
      "cell_type": "code",
      "source": [
        "#set model to use\n",
        "\n",
        "#expt set up: model/checkpoint id (int), use_full_context (True/False), merge (True/False)\n",
        "expts=[\n",
        "    '''\n",
        "    to be subsequently uncommented out\n",
        "    [0, True, False], #bert, full context, not merged\n",
        "    [0, False, False], #bert, shortened context, not merged\n",
        "    [0, False, True], #bert, full context, merged\n",
        "    [1, True, False], #roberta, full context, not merged\n",
        "    [1, False, False], #roberta, shortened context, not merged\n",
        "    [1, False, True], #roberta, full context, merged\n",
        "    '''\n",
        "    [2, True, False], #scibert, full context, not merged\n",
        "    [3, False, False], #gpt2, shortened context, not merged\n",
        "    [3, True, False], #gpt2, full context, not merged\n",
        "    [3, False, True], #gpt2, shortened context, merged\n",
        "    [3, True, True], #gpt2, full context, merged\n",
        "    [4, False, False], #t5, shortened context, not merged\n",
        "    [4, True, False], #t5, full context, not merged\n",
        "    [4, False, True], #t5, shortened context, merged\n",
        "    [4, True, True] #t5, full context, merged\n",
        "       ]\n",
        "models = [\"bert-base-cased\", \"roberta-base\", \"allenai/scibert_scivocab_uncased\", \"gpt2\", \"t5-base\"]\n",
        "checkpoint_names = [\"bert-finetuned-squad\", \"roberta-finetuned-squad\", \"allenai/scibert-finetuned-squad\", \"gpt2-finetuned-squad\", \"t5-finetuned-squad\"]\n",
        "\n",
        "#i = 1\n",
        "expt_id = 0\n",
        "curr_expt = expts[expt_id] \n",
        "model_id = curr_expt[0]\n",
        "\n",
        "#set dataset to use\n",
        "use_full_context = curr_expt[1]\n",
        "merge = curr_expt[2]\n",
        "\n",
        "print('model name:' + models[model_id] + ', checkpoint name: ' + checkpoint_names[model_id] + ',use full context: ' + str(use_full_context) + ', merged dataset: ' + str(merge))"
      ],
      "metadata": {
        "id": "rsaxqDcLJlC4",
        "colab": {
          "base_uri": "https://localhost:8080/"
        },
        "outputId": "0bd716df-48ff-4729-b6dd-e61e3b2d3fc1"
      },
      "execution_count": null,
      "outputs": [
        {
          "output_type": "stream",
          "name": "stdout",
          "text": [
            "model name:allenai/scibert_scivocab_uncased, checkpoint name: allenai/scibert-finetuned-squad,use full context: True, merged dataset: False\n"
          ]
        }
      ]
    },
    {
      "cell_type": "markdown",
      "source": [
        "# Load CovidQA Dataset"
      ],
      "metadata": {
        "id": "Yp2VHJgk-ZTr"
      }
    },
    {
      "cell_type": "code",
      "execution_count": null,
      "metadata": {
        "colab": {
          "base_uri": "https://localhost:8080/",
          "height": 423
        },
        "id": "iPMP6TqgdwOc",
        "outputId": "f98fd50f-01e8-427d-ae97-b0a9da602960"
      },
      "outputs": [
        {
          "output_type": "execute_result",
          "data": {
            "text/plain": [
              "                                                context  \\\n",
              "0     Functional Genetic Variants in DC-SIGNR Are As...   \n",
              "1     Functional Genetic Variants in DC-SIGNR Are As...   \n",
              "2     Functional Genetic Variants in DC-SIGNR Are As...   \n",
              "3     Functional Genetic Variants in DC-SIGNR Are As...   \n",
              "4     Functional Genetic Variants in DC-SIGNR Are As...   \n",
              "...                                                 ...   \n",
              "2014  Ebola Virus Maintenance: If Not (Only) Bats, W...   \n",
              "2015  Ebola Virus Maintenance: If Not (Only) Bats, W...   \n",
              "2016  Ebola Virus Maintenance: If Not (Only) Bats, W...   \n",
              "2017  Ebola Virus Maintenance: If Not (Only) Bats, W...   \n",
              "2018  Ebola Virus Maintenance: If Not (Only) Bats, W...   \n",
              "\n",
              "                                               question    id  \\\n",
              "0     What is the main cause of HIV-1 infection in c...   262   \n",
              "1     What plays the crucial role in the Mother to C...   276   \n",
              "2     How many children were infected by HIV-1 in 20...   278   \n",
              "3     What is the role of C-C Motif Chemokine Ligand...   316   \n",
              "4           What is DC-GENR and where is  it expressed?   305   \n",
              "...                                                 ...   ...   \n",
              "2014           What is the structure of the Ebolavirus?  5315   \n",
              "2015     When was the West African Ebolavirus outbreak?  5316   \n",
              "2016  What animals are considered to be maintenance ...  5317   \n",
              "2017              What do circles indicate in Figure 1?  5318   \n",
              "2018               What do arrows indicate in Figure 1?  5319   \n",
              "\n",
              "                                                answers  \n",
              "0     {'text': ['Mother-to-child transmission (MTCT)...  \n",
              "1     {'text': ['DC-SIGNR plays a crucial role in MT...  \n",
              "2     {'text': ['more than 400,000 children were inf...  \n",
              "3     {'text': ['High copy numbers of CCL3L1, a pote...  \n",
              "4     {'text': ['Dendritic cell-specific ICAM-grabbi...  \n",
              "...                                                 ...  \n",
              "2014  {'text': ['single-strand RNA filoviruses'], 'a...  \n",
              "2015    {'text': ['2013-2016'], 'answer_start': [2546]}  \n",
              "2016  {'text': ['African bats'], 'answer_start': [40...  \n",
              "2017  {'text': ['a maintenance function play by the ...  \n",
              "2018  {'text': ['infectious transmission pathways be...  \n",
              "\n",
              "[2019 rows x 4 columns]"
            ],
            "text/html": [
              "\n",
              "  <div id=\"df-99821ce6-5c8c-428f-8e7a-6e233930b4a1\">\n",
              "    <div class=\"colab-df-container\">\n",
              "      <div>\n",
              "<style scoped>\n",
              "    .dataframe tbody tr th:only-of-type {\n",
              "        vertical-align: middle;\n",
              "    }\n",
              "\n",
              "    .dataframe tbody tr th {\n",
              "        vertical-align: top;\n",
              "    }\n",
              "\n",
              "    .dataframe thead th {\n",
              "        text-align: right;\n",
              "    }\n",
              "</style>\n",
              "<table border=\"1\" class=\"dataframe\">\n",
              "  <thead>\n",
              "    <tr style=\"text-align: right;\">\n",
              "      <th></th>\n",
              "      <th>context</th>\n",
              "      <th>question</th>\n",
              "      <th>id</th>\n",
              "      <th>answers</th>\n",
              "    </tr>\n",
              "  </thead>\n",
              "  <tbody>\n",
              "    <tr>\n",
              "      <th>0</th>\n",
              "      <td>Functional Genetic Variants in DC-SIGNR Are As...</td>\n",
              "      <td>What is the main cause of HIV-1 infection in c...</td>\n",
              "      <td>262</td>\n",
              "      <td>{'text': ['Mother-to-child transmission (MTCT)...</td>\n",
              "    </tr>\n",
              "    <tr>\n",
              "      <th>1</th>\n",
              "      <td>Functional Genetic Variants in DC-SIGNR Are As...</td>\n",
              "      <td>What plays the crucial role in the Mother to C...</td>\n",
              "      <td>276</td>\n",
              "      <td>{'text': ['DC-SIGNR plays a crucial role in MT...</td>\n",
              "    </tr>\n",
              "    <tr>\n",
              "      <th>2</th>\n",
              "      <td>Functional Genetic Variants in DC-SIGNR Are As...</td>\n",
              "      <td>How many children were infected by HIV-1 in 20...</td>\n",
              "      <td>278</td>\n",
              "      <td>{'text': ['more than 400,000 children were inf...</td>\n",
              "    </tr>\n",
              "    <tr>\n",
              "      <th>3</th>\n",
              "      <td>Functional Genetic Variants in DC-SIGNR Are As...</td>\n",
              "      <td>What is the role of C-C Motif Chemokine Ligand...</td>\n",
              "      <td>316</td>\n",
              "      <td>{'text': ['High copy numbers of CCL3L1, a pote...</td>\n",
              "    </tr>\n",
              "    <tr>\n",
              "      <th>4</th>\n",
              "      <td>Functional Genetic Variants in DC-SIGNR Are As...</td>\n",
              "      <td>What is DC-GENR and where is  it expressed?</td>\n",
              "      <td>305</td>\n",
              "      <td>{'text': ['Dendritic cell-specific ICAM-grabbi...</td>\n",
              "    </tr>\n",
              "    <tr>\n",
              "      <th>...</th>\n",
              "      <td>...</td>\n",
              "      <td>...</td>\n",
              "      <td>...</td>\n",
              "      <td>...</td>\n",
              "    </tr>\n",
              "    <tr>\n",
              "      <th>2014</th>\n",
              "      <td>Ebola Virus Maintenance: If Not (Only) Bats, W...</td>\n",
              "      <td>What is the structure of the Ebolavirus?</td>\n",
              "      <td>5315</td>\n",
              "      <td>{'text': ['single-strand RNA filoviruses'], 'a...</td>\n",
              "    </tr>\n",
              "    <tr>\n",
              "      <th>2015</th>\n",
              "      <td>Ebola Virus Maintenance: If Not (Only) Bats, W...</td>\n",
              "      <td>When was the West African Ebolavirus outbreak?</td>\n",
              "      <td>5316</td>\n",
              "      <td>{'text': ['2013-2016'], 'answer_start': [2546]}</td>\n",
              "    </tr>\n",
              "    <tr>\n",
              "      <th>2016</th>\n",
              "      <td>Ebola Virus Maintenance: If Not (Only) Bats, W...</td>\n",
              "      <td>What animals are considered to be maintenance ...</td>\n",
              "      <td>5317</td>\n",
              "      <td>{'text': ['African bats'], 'answer_start': [40...</td>\n",
              "    </tr>\n",
              "    <tr>\n",
              "      <th>2017</th>\n",
              "      <td>Ebola Virus Maintenance: If Not (Only) Bats, W...</td>\n",
              "      <td>What do circles indicate in Figure 1?</td>\n",
              "      <td>5318</td>\n",
              "      <td>{'text': ['a maintenance function play by the ...</td>\n",
              "    </tr>\n",
              "    <tr>\n",
              "      <th>2018</th>\n",
              "      <td>Ebola Virus Maintenance: If Not (Only) Bats, W...</td>\n",
              "      <td>What do arrows indicate in Figure 1?</td>\n",
              "      <td>5319</td>\n",
              "      <td>{'text': ['infectious transmission pathways be...</td>\n",
              "    </tr>\n",
              "  </tbody>\n",
              "</table>\n",
              "<p>2019 rows × 4 columns</p>\n",
              "</div>\n",
              "      <button class=\"colab-df-convert\" onclick=\"convertToInteractive('df-99821ce6-5c8c-428f-8e7a-6e233930b4a1')\"\n",
              "              title=\"Convert this dataframe to an interactive table.\"\n",
              "              style=\"display:none;\">\n",
              "        \n",
              "  <svg xmlns=\"http://www.w3.org/2000/svg\" height=\"24px\"viewBox=\"0 0 24 24\"\n",
              "       width=\"24px\">\n",
              "    <path d=\"M0 0h24v24H0V0z\" fill=\"none\"/>\n",
              "    <path d=\"M18.56 5.44l.94 2.06.94-2.06 2.06-.94-2.06-.94-.94-2.06-.94 2.06-2.06.94zm-11 1L8.5 8.5l.94-2.06 2.06-.94-2.06-.94L8.5 2.5l-.94 2.06-2.06.94zm10 10l.94 2.06.94-2.06 2.06-.94-2.06-.94-.94-2.06-.94 2.06-2.06.94z\"/><path d=\"M17.41 7.96l-1.37-1.37c-.4-.4-.92-.59-1.43-.59-.52 0-1.04.2-1.43.59L10.3 9.45l-7.72 7.72c-.78.78-.78 2.05 0 2.83L4 21.41c.39.39.9.59 1.41.59.51 0 1.02-.2 1.41-.59l7.78-7.78 2.81-2.81c.8-.78.8-2.07 0-2.86zM5.41 20L4 18.59l7.72-7.72 1.47 1.35L5.41 20z\"/>\n",
              "  </svg>\n",
              "      </button>\n",
              "      \n",
              "  <style>\n",
              "    .colab-df-container {\n",
              "      display:flex;\n",
              "      flex-wrap:wrap;\n",
              "      gap: 12px;\n",
              "    }\n",
              "\n",
              "    .colab-df-convert {\n",
              "      background-color: #E8F0FE;\n",
              "      border: none;\n",
              "      border-radius: 50%;\n",
              "      cursor: pointer;\n",
              "      display: none;\n",
              "      fill: #1967D2;\n",
              "      height: 32px;\n",
              "      padding: 0 0 0 0;\n",
              "      width: 32px;\n",
              "    }\n",
              "\n",
              "    .colab-df-convert:hover {\n",
              "      background-color: #E2EBFA;\n",
              "      box-shadow: 0px 1px 2px rgba(60, 64, 67, 0.3), 0px 1px 3px 1px rgba(60, 64, 67, 0.15);\n",
              "      fill: #174EA6;\n",
              "    }\n",
              "\n",
              "    [theme=dark] .colab-df-convert {\n",
              "      background-color: #3B4455;\n",
              "      fill: #D2E3FC;\n",
              "    }\n",
              "\n",
              "    [theme=dark] .colab-df-convert:hover {\n",
              "      background-color: #434B5C;\n",
              "      box-shadow: 0px 1px 3px 1px rgba(0, 0, 0, 0.15);\n",
              "      filter: drop-shadow(0px 1px 2px rgba(0, 0, 0, 0.3));\n",
              "      fill: #FFFFFF;\n",
              "    }\n",
              "  </style>\n",
              "\n",
              "      <script>\n",
              "        const buttonEl =\n",
              "          document.querySelector('#df-99821ce6-5c8c-428f-8e7a-6e233930b4a1 button.colab-df-convert');\n",
              "        buttonEl.style.display =\n",
              "          google.colab.kernel.accessAllowed ? 'block' : 'none';\n",
              "\n",
              "        async function convertToInteractive(key) {\n",
              "          const element = document.querySelector('#df-99821ce6-5c8c-428f-8e7a-6e233930b4a1');\n",
              "          const dataTable =\n",
              "            await google.colab.kernel.invokeFunction('convertToInteractive',\n",
              "                                                     [key], {});\n",
              "          if (!dataTable) return;\n",
              "\n",
              "          const docLinkHtml = 'Like what you see? Visit the ' +\n",
              "            '<a target=\"_blank\" href=https://colab.research.google.com/notebooks/data_table.ipynb>data table notebook</a>'\n",
              "            + ' to learn more about interactive tables.';\n",
              "          element.innerHTML = '';\n",
              "          dataTable['output_type'] = 'display_data';\n",
              "          await google.colab.output.renderOutput(dataTable, element);\n",
              "          const docLink = document.createElement('div');\n",
              "          docLink.innerHTML = docLinkHtml;\n",
              "          element.appendChild(docLink);\n",
              "        }\n",
              "      </script>\n",
              "    </div>\n",
              "  </div>\n",
              "  "
            ]
          },
          "metadata": {},
          "execution_count": 5
        }
      ],
      "source": [
        "# NON-SHORTENED CONTEXT VERSION\n",
        "df = pd.read_json('https://raw.githubusercontent.com/deepset-ai/COVID-QA/master/data/question-answering/COVID-QA.json')\n",
        "\n",
        "qa_list = []\n",
        "for index, row in df.iterrows():\n",
        "  for i in range(len(row['data']['paragraphs'][0]['qas'])):\n",
        "    qa_temp_list = []\n",
        "    qa_temp_list.append(row['data']['paragraphs'][0]['context'])\n",
        "    qa_temp_list.append(row['data']['paragraphs'][0]['qas'][i]['question'])\n",
        "    qa_temp_list.append(row['data']['paragraphs'][0]['qas'][i]['id'])\n",
        "    answer = {}\n",
        "    answer['text'] = []\n",
        "    answer['answer_start'] = []\n",
        "    for j in range(len(row['data']['paragraphs'][0]['qas'][i]['answers'])):\n",
        "      answer['text'].append(row['data']['paragraphs'][0]['qas'][i]['answers'][j]['text'])\n",
        "      answer['answer_start'].append(row['data']['paragraphs'][0]['qas'][i]['answers'][j]['answer_start'])\n",
        "    qa_temp_list.append(answer)\n",
        "    qa_list.append(qa_temp_list)\n",
        "long_qa_df = pd.DataFrame(qa_list, columns = ['context', 'question', 'id', 'answers'])\n",
        "long_qa_df"
      ]
    },
    {
      "cell_type": "markdown",
      "source": [
        "## Shortened Context Version"
      ],
      "metadata": {
        "id": "Ax1DPac9-dGi"
      }
    },
    {
      "cell_type": "code",
      "execution_count": 3,
      "metadata": {
        "colab": {
          "base_uri": "https://localhost:8080/",
          "height": 206
        },
        "id": "vtgaYlAKdQMW",
        "outputId": "0522dfdf-6e3a-4bbd-db8c-52cf1dd70a94"
      },
      "outputs": [
        {
          "output_type": "execute_result",
          "data": {
            "text/plain": [
              "                                             context  \\\n",
              "0  Abstract: BACKGROUND: Mother-to-child transmis...   \n",
              "1  Abstract: BACKGROUND: Mother-to-child transmis...   \n",
              "2  Text: Without specific interventions, the rate...   \n",
              "3  Beside DC-SIGNR, other HIV-1 receptors are kno...   \n",
              "4  Dendritic cell-specific ICAM-grabbing non-inte...   \n",
              "\n",
              "                                            question   id  \\\n",
              "0  What is the main cause of HIV-1 infection in c...  262   \n",
              "1  What plays the crucial role in the Mother to C...  276   \n",
              "2  How many children were infected by HIV-1 in 20...  278   \n",
              "3  What is the role of C-C Motif Chemokine Ligand...  316   \n",
              "4        What is DC-GENR and where is  it expressed?  305   \n",
              "\n",
              "                                             answers  \n",
              "0  {'text': ['Mother-to-child transmission (MTCT)...  \n",
              "1  {'text': ['DC-SIGNR plays a crucial role in MT...  \n",
              "2  {'text': ['more than 400,000 children were inf...  \n",
              "3  {'text': ['High copy numbers of CCL3L1, a pote...  \n",
              "4  {'text': ['Dendritic cell-specific ICAM-grabbi...  "
            ],
            "text/html": [
              "\n",
              "  <div id=\"df-7d811567-7624-4308-bb8f-19b839b9d582\">\n",
              "    <div class=\"colab-df-container\">\n",
              "      <div>\n",
              "<style scoped>\n",
              "    .dataframe tbody tr th:only-of-type {\n",
              "        vertical-align: middle;\n",
              "    }\n",
              "\n",
              "    .dataframe tbody tr th {\n",
              "        vertical-align: top;\n",
              "    }\n",
              "\n",
              "    .dataframe thead th {\n",
              "        text-align: right;\n",
              "    }\n",
              "</style>\n",
              "<table border=\"1\" class=\"dataframe\">\n",
              "  <thead>\n",
              "    <tr style=\"text-align: right;\">\n",
              "      <th></th>\n",
              "      <th>context</th>\n",
              "      <th>question</th>\n",
              "      <th>id</th>\n",
              "      <th>answers</th>\n",
              "    </tr>\n",
              "  </thead>\n",
              "  <tbody>\n",
              "    <tr>\n",
              "      <th>0</th>\n",
              "      <td>Abstract: BACKGROUND: Mother-to-child transmis...</td>\n",
              "      <td>What is the main cause of HIV-1 infection in c...</td>\n",
              "      <td>262</td>\n",
              "      <td>{'text': ['Mother-to-child transmission (MTCT)...</td>\n",
              "    </tr>\n",
              "    <tr>\n",
              "      <th>1</th>\n",
              "      <td>Abstract: BACKGROUND: Mother-to-child transmis...</td>\n",
              "      <td>What plays the crucial role in the Mother to C...</td>\n",
              "      <td>276</td>\n",
              "      <td>{'text': ['DC-SIGNR plays a crucial role in MT...</td>\n",
              "    </tr>\n",
              "    <tr>\n",
              "      <th>2</th>\n",
              "      <td>Text: Without specific interventions, the rate...</td>\n",
              "      <td>How many children were infected by HIV-1 in 20...</td>\n",
              "      <td>278</td>\n",
              "      <td>{'text': ['more than 400,000 children were inf...</td>\n",
              "    </tr>\n",
              "    <tr>\n",
              "      <th>3</th>\n",
              "      <td>Beside DC-SIGNR, other HIV-1 receptors are kno...</td>\n",
              "      <td>What is the role of C-C Motif Chemokine Ligand...</td>\n",
              "      <td>316</td>\n",
              "      <td>{'text': ['High copy numbers of CCL3L1, a pote...</td>\n",
              "    </tr>\n",
              "    <tr>\n",
              "      <th>4</th>\n",
              "      <td>Dendritic cell-specific ICAM-grabbing non-inte...</td>\n",
              "      <td>What is DC-GENR and where is  it expressed?</td>\n",
              "      <td>305</td>\n",
              "      <td>{'text': ['Dendritic cell-specific ICAM-grabbi...</td>\n",
              "    </tr>\n",
              "  </tbody>\n",
              "</table>\n",
              "</div>\n",
              "      <button class=\"colab-df-convert\" onclick=\"convertToInteractive('df-7d811567-7624-4308-bb8f-19b839b9d582')\"\n",
              "              title=\"Convert this dataframe to an interactive table.\"\n",
              "              style=\"display:none;\">\n",
              "        \n",
              "  <svg xmlns=\"http://www.w3.org/2000/svg\" height=\"24px\"viewBox=\"0 0 24 24\"\n",
              "       width=\"24px\">\n",
              "    <path d=\"M0 0h24v24H0V0z\" fill=\"none\"/>\n",
              "    <path d=\"M18.56 5.44l.94 2.06.94-2.06 2.06-.94-2.06-.94-.94-2.06-.94 2.06-2.06.94zm-11 1L8.5 8.5l.94-2.06 2.06-.94-2.06-.94L8.5 2.5l-.94 2.06-2.06.94zm10 10l.94 2.06.94-2.06 2.06-.94-2.06-.94-.94-2.06-.94 2.06-2.06.94z\"/><path d=\"M17.41 7.96l-1.37-1.37c-.4-.4-.92-.59-1.43-.59-.52 0-1.04.2-1.43.59L10.3 9.45l-7.72 7.72c-.78.78-.78 2.05 0 2.83L4 21.41c.39.39.9.59 1.41.59.51 0 1.02-.2 1.41-.59l7.78-7.78 2.81-2.81c.8-.78.8-2.07 0-2.86zM5.41 20L4 18.59l7.72-7.72 1.47 1.35L5.41 20z\"/>\n",
              "  </svg>\n",
              "      </button>\n",
              "      \n",
              "  <style>\n",
              "    .colab-df-container {\n",
              "      display:flex;\n",
              "      flex-wrap:wrap;\n",
              "      gap: 12px;\n",
              "    }\n",
              "\n",
              "    .colab-df-convert {\n",
              "      background-color: #E8F0FE;\n",
              "      border: none;\n",
              "      border-radius: 50%;\n",
              "      cursor: pointer;\n",
              "      display: none;\n",
              "      fill: #1967D2;\n",
              "      height: 32px;\n",
              "      padding: 0 0 0 0;\n",
              "      width: 32px;\n",
              "    }\n",
              "\n",
              "    .colab-df-convert:hover {\n",
              "      background-color: #E2EBFA;\n",
              "      box-shadow: 0px 1px 2px rgba(60, 64, 67, 0.3), 0px 1px 3px 1px rgba(60, 64, 67, 0.15);\n",
              "      fill: #174EA6;\n",
              "    }\n",
              "\n",
              "    [theme=dark] .colab-df-convert {\n",
              "      background-color: #3B4455;\n",
              "      fill: #D2E3FC;\n",
              "    }\n",
              "\n",
              "    [theme=dark] .colab-df-convert:hover {\n",
              "      background-color: #434B5C;\n",
              "      box-shadow: 0px 1px 3px 1px rgba(0, 0, 0, 0.15);\n",
              "      filter: drop-shadow(0px 1px 2px rgba(0, 0, 0, 0.3));\n",
              "      fill: #FFFFFF;\n",
              "    }\n",
              "  </style>\n",
              "\n",
              "      <script>\n",
              "        const buttonEl =\n",
              "          document.querySelector('#df-7d811567-7624-4308-bb8f-19b839b9d582 button.colab-df-convert');\n",
              "        buttonEl.style.display =\n",
              "          google.colab.kernel.accessAllowed ? 'block' : 'none';\n",
              "\n",
              "        async function convertToInteractive(key) {\n",
              "          const element = document.querySelector('#df-7d811567-7624-4308-bb8f-19b839b9d582');\n",
              "          const dataTable =\n",
              "            await google.colab.kernel.invokeFunction('convertToInteractive',\n",
              "                                                     [key], {});\n",
              "          if (!dataTable) return;\n",
              "\n",
              "          const docLinkHtml = 'Like what you see? Visit the ' +\n",
              "            '<a target=\"_blank\" href=https://colab.research.google.com/notebooks/data_table.ipynb>data table notebook</a>'\n",
              "            + ' to learn more about interactive tables.';\n",
              "          element.innerHTML = '';\n",
              "          dataTable['output_type'] = 'display_data';\n",
              "          await google.colab.output.renderOutput(dataTable, element);\n",
              "          const docLink = document.createElement('div');\n",
              "          docLink.innerHTML = docLinkHtml;\n",
              "          element.appendChild(docLink);\n",
              "        }\n",
              "      </script>\n",
              "    </div>\n",
              "  </div>\n",
              "  "
            ]
          },
          "metadata": {},
          "execution_count": 3
        }
      ],
      "source": [
        "# SHORTENED CONTEXT VERSION\n",
        "df = pd.read_json('https://raw.githubusercontent.com/deepset-ai/COVID-QA/master/data/question-answering/COVID-QA.json')\n",
        "\n",
        "qa_list = []\n",
        "for index, row in df.iterrows():\n",
        "  paragraph_list = row['data']['paragraphs'][0]['context'].split('\\n\\n')\n",
        "  for i in range(len(row['data']['paragraphs'][0]['qas'])):\n",
        "    qa_temp_list = []\n",
        "    short_context = '\\n\\n'.join(list(filter(lambda x : row['data']['paragraphs'][0]['qas'][i]['answers'][0]['text'] in x, paragraph_list)))\n",
        "    qa_temp_list.append(short_context)\n",
        "    qa_temp_list.append(row['data']['paragraphs'][0]['qas'][i]['question'])\n",
        "    qa_temp_list.append(row['data']['paragraphs'][0]['qas'][i]['id'])\n",
        "\n",
        "    ans_text = row['data']['paragraphs'][0]['qas'][i]['answers'][0]['text']\n",
        "    ans_start = row['data']['paragraphs'][0]['qas'][i]['answers'][0]['answer_start']\n",
        "    if (len(short_context)) > 0:\n",
        "      ans_start = short_context.index(str(ans_text))\n",
        "    answer = {'text': [ans_text],\n",
        "              'answer_start': [ans_start]}\n",
        "    qa_temp_list.append(answer)\n",
        "    qa_list.append(qa_temp_list)\n",
        "new_qa_df = pd.DataFrame(qa_list, columns = ['context', 'question', 'id', 'answers'])\n",
        "new_qa_df = new_qa_df.drop(new_qa_df['context'].loc[new_qa_df['context'].str.len() <= 0].index)\n",
        "new_qa_df.head()"
      ]
    },
    {
      "cell_type": "markdown",
      "source": [
        "## Select whether to use full context or shortened context"
      ],
      "metadata": {
        "id": "U5T-4ZDtN7ko"
      }
    },
    {
      "cell_type": "code",
      "source": [
        "if use_full_context:\n",
        "  new_qa_df = long_qa_df"
      ],
      "metadata": {
        "id": "mcBXJxmg-kFH"
      },
      "execution_count": null,
      "outputs": []
    },
    {
      "cell_type": "code",
      "source": [
        "new_qa_df.shape"
      ],
      "metadata": {
        "colab": {
          "base_uri": "https://localhost:8080/"
        },
        "id": "a9eEQeRkZkYB",
        "outputId": "7a0e75a5-63da-45e6-f561-917daefd941d"
      },
      "execution_count": null,
      "outputs": [
        {
          "output_type": "execute_result",
          "data": {
            "text/plain": [
              "(2019, 4)"
            ]
          },
          "metadata": {},
          "execution_count": 7
        }
      ]
    },
    {
      "cell_type": "code",
      "execution_count": null,
      "metadata": {
        "id": "C1To0SjvgL2E"
      },
      "outputs": [],
      "source": [
        "from datasets import Dataset\n",
        "\n",
        "qa_dataset = Dataset.from_pandas(new_qa_df)\n",
        "qa_dataset = qa_dataset.train_test_split(train_size = 0.7, seed = 42)\n",
        "split_qa_dataset = qa_dataset['test'].train_test_split(train_size = 0.8, seed = 42)\n",
        "split_qa_dataset['validation'] = split_qa_dataset.pop('test')\n",
        "split_qa_dataset['test'] = split_qa_dataset.pop('train')\n",
        "split_qa_dataset['train'] = qa_dataset['train']\n",
        "\n",
        "qa_dataset = split_qa_dataset"
      ]
    },
    {
      "cell_type": "code",
      "execution_count": null,
      "metadata": {
        "colab": {
          "base_uri": "https://localhost:8080/"
        },
        "id": "TOWYFmVmo8Ap",
        "outputId": "79684fe8-cd8f-4b15-8cef-acae1b53ead4"
      },
      "outputs": [
        {
          "output_type": "execute_result",
          "data": {
            "text/plain": [
              "DatasetDict({\n",
              "    validation: Dataset({\n",
              "        features: ['context', 'question', 'id', 'answers'],\n",
              "        num_rows: 122\n",
              "    })\n",
              "    test: Dataset({\n",
              "        features: ['context', 'question', 'id', 'answers'],\n",
              "        num_rows: 484\n",
              "    })\n",
              "    train: Dataset({\n",
              "        features: ['context', 'question', 'id', 'answers'],\n",
              "        num_rows: 1413\n",
              "    })\n",
              "})"
            ]
          },
          "metadata": {},
          "execution_count": 9
        }
      ],
      "source": [
        "qa_dataset"
      ]
    },
    {
      "cell_type": "code",
      "execution_count": null,
      "metadata": {
        "colab": {
          "base_uri": "https://localhost:8080/"
        },
        "id": "b0wQGauzh3Tw",
        "outputId": "2d46bd5f-cbd1-46fa-d295-f7b318d8bb28"
      },
      "outputs": [
        {
          "output_type": "stream",
          "name": "stdout",
          "text": [
            "Id:  2512\n",
            "Context:  Chikungunya: A Potentially Emerging Epidemic?\n",
            "\n",
            "https://www.ncbi.nlm.nih.gov/pmc/articles/PMC2860491/\n",
            "\n",
            "SHA: f7c3160bef4169d29e2a8bdd79dd6e9056d4774c\n",
            "\n",
            "Authors: Thiboutot, Michelle M.; Kannan, Senthil; Kawalekar, Omkar U.; Shedlock, Devon J.; Khan, Amir S.; Sarangan, Gopalsamy; Srikanth, Padma; Weiner, David B.; Muthumani, Karuppiah\n",
            "Date: 2010-04-27\n",
            "DOI: 10.1371/journal.pntd.0000623\n",
            "License: cc-by\n",
            "\n",
            "Abstract: Chikungunya virus is a mosquito-borne emerging pathogen that has a major health impact in humans and causes fever disease, headache, rash, nausea, vomiting, myalgia, and arthralgia. Indigenous to tropical Africa, recent large outbreaks have been reported in parts of South East Asia and several of its neighboring islands in 2005–07 and in Europe in 2007. Furthermore, positive cases have been confirmed in the United States in travelers returning from known outbreak areas. Currently, there is no vaccine or antiviral treatment. With the threat of an emerging global pandemic, the peculiar problems associated with the more immediate and seasonal epidemics warrant the development of an effective vaccine. In this review, we summarize the evidence supporting these concepts.\n",
            "\n",
            "Text: Chikungunya virus (CHIKV), a mosquito-borne pathogen listed by National Institute of Allergy and Infectious Diseases (NIAID) as a Category C Priority Pathogen that causes Chikungunya fever (CHIKF), has been spreading throughout Asia, Africa, and parts of Europe in recent times [1, 2, 3] . CHIKV is an arthropod-borne virus (arbovirus) and is transmitted to humans primarily by Aedes aegypti, the infamous yellow fever propagator [4, 5] . CHIKV infection is marked by severe joint pain, contorting its victims into unusual postures [6] . The disease gets its name from the Kimakonde vernacular language of Tanzania and Mozambique, and the word chikungunya means ''that which contorts or bends up'' and translates in Swahili to ''the illness of the bended walker'' [7, 8, 9] . In Africa, CHIKV is maintained in a sylvatic cycle among forest-dwelling Aedes spp. mosquitoes, wild primates, squirrels, birds, and rodents ( Figure 1 ) [10] . In Asia, the disease is vectored by Ae. aegypti and Ae. albopictus [11] . Transmission in Asia occurs in an urban cycle whereby the mosquito spreads the disease from an infected human to an uninfected human, following an epidemiological pattern similar to dengue fever [12] .\n",
            "\n",
            "The 2005-2006 epidemic of CHIKV in La Reunion islands in the Indian Ocean, spurred the discovery of a new vector species, Ae. albopictus [5] . Wrecking over one-third of the island's population, this epidemic peaked its devastation between January and February 2006, when over 46,000 cases came into light every week, including 284 deaths [5, 13] . Ae. albopictus is common in urban areas of the United States and is already flourishing in 36 states, raising grave concerns to the immunologically naive populace of the United States [14] .\n",
            "\n",
            "Accordingly, this review elaborately details the epidemiology and global expansion of CHIKV, describes its clinical features and pathogenesis and its symptoms and complications, and finally nominates a possible vaccine approach against CHIKV infection.\n",
            "\n",
            "CHIKV has been isolated into three genotypes based on phylogenetic studies. These genotypes, based on the gene sequences of an Envelope protein (E1), are Asian, East/Central/ South African, and West African [4, 11, 15] . Using phylogenetic models, Cherian et al. estimate that the Asian genotype of CHIKV emerged between 50 and 310 y ago, and the West and East African genotypes diverged between 100 and 840 y ago [15] . Since then, CHIKV has come a long way, with several mutations incorporated, and has continued to wreak epidemics in several regions. Recent activities of CHIKV include the Indian epidemic in 2005-2006, which was followed by a sudden explosion of cases in 2007. An estimated 1.3 million people across 13 states were reported to be infected in India [12, 16] , and CHIKV was also widespread in Malaysia, Sri Lanka, and Indonesia [17] . In July-August of 2007, CHIKV was reported in Italy, probably brought in by travelers from CHIKV-prone regions of India, Africa, and Indian Ocean islands such as Mauritius, Madagascar, and Seychelles. Few of the Italian isolates were found to have evolved from the Kerala isolate, which was associated with a A226V shift in E1 gene that represents a successful evolutionary adaptation in the mosquito vector similar to the ones observed in Reunion Island [2, 18, 19] .\n",
            "\n",
            "In recent times, with an increase in global travel, the risk for spreading CHIKV to non-endemic regions has heightened [1] . Several travelers have brought CHIKV home with them after visiting areas with actively infected populations [12, 20] . Such cases have been documented in European countries, Australia, Asia, and the United States [8, 21] . The United States has already reported at least twelve cases of travel-associated CHIKV, while France has reported 850 cases, and the United Kingdom 93 [8, 14] . Beyond this, CHIKV-infected travelers have also been diagnosed in Australia, Belgium, Canada, Czech Republic, French Guiana, Germany, Hong Kong, Italy, Japan, Kenya, Malaysia, Martinique, Norway, Switzerland, and Sri Lanka [21] . Some travelers were viremic, worrying public health officials about the spread of CHIKV to new areas [1, 8] .\n",
            "\n",
            "The incubation time for CHIKV is relatively short, requiring only 2-6 d with symptoms usually appearing 4-7 d post-infection [22] . Vazeille et al. detected CHIKV in the salivary glands of Ae. albopictus only 2 d after infection [5] . Upon infection, CHIKF tends to present itself in two phases. The first stage is acute, while the second stage, experienced by most but not all, is persistent, causing disabling polyarthritis. Characteristics of the acute phase include an abrupt onset of fever, arthralgia, and in some cases, maculopapular rash [6, 23] . The acute phase causes such intense joint and muscular pain that makes movement very difficult and prostrates its victims [6, 20] .\n",
            "\n",
            "Ninety-five percent of infected adults are symptomatic after infection, and of these, most become disabled for weeks to months as a result of decreased dexterity, loss of mobility, and delayed reaction. Eighteen months after disease onset, 40% of patients are found to still have anti-CHIKV IgM [6, 18, 23, 24] . The chronic stage of CHIKF is characterized by polyarthralgia that can last from weeks to years beyond the acute stage [6] . CHIKV has been shown to attack fibroblasts, explaining the involvement of muscles, joints, and skin connective tissues. The high number of nociceptive nerve endings found within the joints and muscle connective tissues can explain pain associated with CHIKF [25, 26] .\n",
            "\n",
            "More than 50% of patients who suffer from severe CHIKF are over 65 y old, and more than 33% of them die. Most adults who suffer from severe CHIKF have underlying medical conditions [6, 24, 27] . The other group that is disproportionately affected by severe CHIKV is children. Other complications associated with CHIKV, from most common to least common, include respiratory failure, cardiovascular decompensation, meningoencephalitis, severe acute hepatitis, severe cutaneous effects, other central nervous system problems, and kidney failure [6, 18, 20, 23, 24, 26, 27] .\n",
            "\n",
            "CHIKV undertakes a complex replication cycle upon host infection (Figure 2 ), which makes its genome susceptible to mutations [28, 29] . For instance, Ae. aegypti, responsible for epidemics in Kenya, Comoros, and Seychelles, carried CHIKV with an alanine in the 226 position of the E1 gene (E1-A226) [4, 18] . However, when the virus struck La Reunion Islands, a decline in population of Ae. aegypti, due to massive dichlorodiphenyltrichloroethane usage and dearth of Ae. albopictus species' www.plosntds.org population, resulted in an ecological pressure, favoring replacement of alanine at position 226 with valine (E1-A226V) [5] . This mutation allowed CHIKV's secondary vector species, Ae. albopictus, to supplement Ae. aegypti as its primary vector [5] .\n",
            "\n",
            "Within a year, the E1-A226V mutation was present in La Reunion Island, and Ae. albopictus apparently vectored the large epidemic infecting 34% of La Reunion Island's population [5] . All of the CHIKV strains isolated from Mayotte carried the E1-A226V mutation, and the mutation was also found in Madagascar in 2007 [5] . The E1-A226V mutation was not present at the beginning of the Indian Ocean Islands outbreak (before September 2005). However, more than 90% of later viral strains found there had incorporated the mutation (December-March 2006), indicating a genotype switch during the winter season [5, 18, 20] .\n",
            "\n",
            "The E1-A226V mutation also enabled an increase in infectivity of Ae. albopictus when compared to its infectivity of Ae. aegypti [4, 11, 18, 30] , and with several factors taken together, Ae. albopictus has become the new preferred and more lethal vector for CHIKV [4, 5, 11] . In fact, Tsetsarkin et al. found that a Green Fluorescent Protein tagged E1-A226V virus was 100 times more infective to Ae. albopictus than it was to Ae. aegypti [4] . In all the Indian Ocean Islands, Ae. albopictus became the main vector for CHIKV within 1-2 y after CHIKV was introduced to the region [31] .\n",
            "\n",
            "Of note is that Ae. aegypti has most likely been established in North America for over 300 y, while Ae. albopictus has been in many areas of the US, since 1985, primarily in Florida [32] and since then has expanded its range in the country. Reiskind et al. set out to determine if Ae. aegypti and Ae. albopictus mosquitoes captured in Florida were susceptible to CHIKV infection by a La Reunion isolate [32] . Each mosquito tested was highly susceptible to infection by a full-length infectious clone of the La Réunion Island isolate, CHIKV LR2006 OPY1 strain. Even though the Ae. albopictus strains were more susceptible to infection, overall ecology and differences in human biting patterns need to be studied further Characteristically, there are two rounds of translation: (+) sense genomic RNA (49S9 = 11.7 kb) acts directly as mRNA and is partially translated (59 end) to produce non-structural proteins (nsp's). These proteins are responsible for replication and formation of a complementary (2) strand, the template for further (+) strand synthesis. Subgenomic mRNA (26 S = 4.1 kb) replication occurs through the synthesis of full-length (2) intermediate RNA, which is regulated by nsp4 and p123 precursor in early infection and later by mature nsp's. Translation of the newly synthesized sub-genomic RNA results in production of structural proteins such as Capsid and protein E2-6k-E1 (from 39 end of genome). Assembly occurs at the cell surface, and the envelope is acquired as the virus buds from the cell and release and maturation almost simultaneous occurred. Replication occurs in the cytoplasm and is very rapid (,4 h) [28, 29] . doi:10.1371/journal.pntd.0000623.g002 www.plosntds.org to gain a more accurate understanding of a potential CHIKV epidemic in the US [32] .\n",
            "\n",
            "During the 7 d preceding birth, no human mother has been reported to transmit the disease vertically. However, about 50% of newborns delivered while the mother was infected with CHIKV contracted the disease from their mother, despite the method of delivery. Furthermore, there have been instances of CHIKV transmission from mother to fetus causing congenital illness and fetal death [33] .\n",
            "\n",
            "During the 2005-2006 La Reunion Island outbreaks, Ramful et al. discovered that mothers could transmit CHIKV to their progeny during the perinatal period (Day 24 to Day +1) [33, 34] , and it is associated with a high degree of morbidity. By mean Day 4 of life, all of the neonates were symptomatic for CHIKV, exhibiting common CHIKF symptoms. Six neonates were confirmed to have contracted CHIKV and developed mengoencephalitis. Of those mothers who, during the La Reunion Island epidemic, were infected long before delivery, only three fetal deaths were reported [12, 33] . Ramful et al. theorized that motherto-child transmission most likely happens transplacentally shortly before delivery [33] . A similar study by Gerardin et al. reported nineteen cases of neonatal infection associated with intrapartum maternal viremia that progressed to develop encephalitis owing to vertical transmission from infected mothers [34] .\n",
            "\n",
            "Clinical and epidemiological similarities with dengue fever make CHIKV diagnosis difficult, which may lead physicians to misdiagnose CHIKV as dengue fever; therefore, the incidence of CHIKV may actually be higher than currently believed (Table 1 ) [6, 12, 35] .\n",
            "\n",
            "The amount of time elapsed since disease onset is the most critical parameter when choosing a diagnostic test. CHIKV can be detected and isolated by culturing with mosquito cells (C6/36), Vero cells (mammalian), or in mice [26] . However, this method can take at least a week and only achieves a high sensitivity during the viremic phase, which usually only lasts up to 48 h after the bite. Five days post-infection, the viral isolation approach has a low sensitivity but is still the preferred method for detecting the CHIKV strain [12, 26, 31, 35] . RT-PCR on the other hand is a faster and more sensitive method that can be used within the first week of disease onset [26] , and it is currently the most sensitive method for detecting and quantifying viral mRNA [4, 36] .\n",
            "\n",
            "Classic serological detection, by assays such as ELISA [37] , immunofluorescence [5, 38] , complement binding, and haemagglutination inhibition [39] , constitutes the second diagnostic tool used for biological diagnosis of CHIKV infection. These proven techniques are useful for detection of Antigen in mosquitoes during epidemiological studies. These assays detect virus-specific IgM and IgG, however the sensitivity and specificity of these assays has been poorly characterized. Viral competence, or the potential of viral infection and transmission, is an important parameter that can be quantified by ELISA, viral culture, and PCR.\n",
            "\n",
            "A study by Ng et al. showed biomarkers indicative of severe CHIKV infection [40] . They found decreased levels of RANTES and increased levels of Interleukin-6 (IL-6) and Interleukin-1b (IL-1b) that could be sued for CHIKV detection in patients as indicators of CHIKV-driven cytokine storm. Couderc et al. demonstrate another cytokine, type-I IFN, as a key player in the progression to CHIKV infection [26] . Using an IFN-a/b null mouse model, they demonstrated evidence of muscles, joints, and skin as privileged CHIKV targets, which is consistent with human pathology. Although Ng et al. concluded that RANTES levels were significantly suppressed in severe CHIKF patients [40] , interestingly, an increase in levels of RANTES has been observed in dengue infection [41] . Since the symptoms of CHIKF mimic those of dengue fever, results obtained from this study strongly suggest that RANTES could be a potential distinctive biomarker that differentiates between these two clinically similar diseases.\n",
            "\n",
            "There are no approved antiviral treatments currently available for CHIKV [1, 3, 12, 42] . Currently, CHIKF is treated symptomatically, usually with non-steroidal anti-inflammatory drugs or steroids, bed rest, and fluids. Movement and mild exercise are thought to decrease stiffness and morning arthralgia, but heavy exercise may exacerbate rheumatic symptoms. Corticosteroids may be used in cases of debilitating chronic CHIKV infection. There is a debate about the appropriateness of chloroquine as treatment for unresolved, non-steroidal anti-inflammatory drugresistant arthritis [43] . A study showed that viral production was www.plosntds.org drastically reduced at 16 h post-infection after treatment with 100 mM dec-RVKR-cmk (Decanoyl-Arg-Val-Lys-Arg-chloromethylketone), a furine inhibitor [42, 44] . Chloroquine acted by raising the pH, blocking low pH-dependent entry of virus into the cell. It is important to note that dec-RVKR-cmk or chloroquine only inhibited viral spreading from cell to cell, not CHIKV replication once it had entered the cell [43] . However, most would agree that the best weapon against CHIKV is prevention. A live CHIKV vaccine developed by the United States reached phase II clinical trial encompassing 59 healthy volunteers [45] . Eight percent of the volunteers experienced transient arthralgia, while 98% of the volunteers had seroconversion [45] . However, live CHIKV vaccines are still questionable. One cannot discount the risk of a live vaccine possibly inducing chronic rheumatism. Also, there is the question as to whether widespread use among the public could trigger mosquito transmission or lead to chronic infection or viral reversion [1] .\n",
            "\n",
            "An alternative approach would be to produce a chimeric vaccine against CHIKV. Wang et al. developed a chimeric alphavirus vaccine that is uniformly attenuated and does not cause reactogenicity in mice [3] . Three different versions of this vaccine were made using three different backbone vectors: Venezuelan equine encephalitis virus (VEEV) attenuated vaccine strain T-83, naturally attenuated eastern equine encephalitis virus (EEEV), and attenuated Sindbis virus (SINV). In short, CHIKV structural proteins were engineered into the backbones of the aforementioned vaccines to produce the chimeras [3] . These chimeras were found to stimulate a strong humoral immunity, and even at doses of 5.3-5.8 log 10 PFU, they did not trigger reactogenicity. When vaccinated mice were challenged with CHIKV, neither adult nor neonatal mice gained weight, had fever, or displayed signs of neurological illness. Upon comparison of the chimeras with the Army181/25 vaccine, the Army vaccine resulted in higher levels of viremia and replication in the joints of neonatal mice. Because the joints are known targets of CHIKV, Wang et al. noted their vaccine might avoid the negative reactogenic side effects of the Army vaccine. After being subcutaneously vaccinated with 5.3-5.8 log 10 PFU of the chimeric vaccines, mice produced strong neutralizing antibody titers. The VEEV and EEEV chimeras yielded higher neutralizing antibody titers than the SINV chimera without being more virulent. On top of this, the VEEV and EEEV CHIKV chimeras seemed to be more immunogenic than the Army vaccine despite the chimeras' lower viremia and replication in the joints of neonatal mice [3] .\n",
            "\n",
            "Tiwari et al. [46] adopted a different strategy using formalin inactivated CHIKV in combination with alhydrogel (Aluminum Hydroxide) as an adjuvant. This study clearly suggests that this vaccine elicits both humoral and cell-mediated immune responses in mice, providing its immunogenic potential. A recent study by Couderc et al. [47] showed passive immunization as a potential treatment for CHIKV infection. Using purified immunoglobulin extracted from convalescent CHIKV patients, they demonstrated effective neutralizing activity against CHIKV infection both in vitro and in vivo. This thereby establishes a potential preventive and therapeutic approach to combat CHIKV infection. Pathogenesis studies conducted with related alpha virus, like RRV, have shown the role of macrophages in persistence on infection [48] . They also demonstrated the role of RRV-specific CD8 T cells in clearing viral load in infected patients, thereby warranting similar investigations with CHIKV and the importance of investigating a cell-mediated immune response-based vaccine against CHIKV [49] .\n",
            "\n",
            "There are always certain risks associated with live attenuated or inactivated viral vaccines [50] . One way to avoid these potential problems is to construct a consensus-based DNA vaccine. DNA based vaccines have an improved safety profile as compared to live or attenuated vaccines [51, 52] . A consequence of CHIKV's rapid evolution is difficulty in constructing a vaccine that will be able to Figure 3 . Levels of CHIKV-specific IgG in mice immunized with CHIKV vaccines. Each group of C57BL/6 mice (n = 5) was immunized with 12.5 mg of pVax1 control vector or CHIKV vaccine plasmids as indicated at 0 and 2 wk. Mice were bled 2 wk after each immunization, and each group's serum pool was diluted to 1:100 and 1:500 for reaction with specific vaccine constructs. Serum was incubated for 1 h at 37uC on 96-well plates coated with 2 mg/ml of respective CHIKV peptides, and antibody was detected using anti-mouse IgG-HRP and OD was measured at 405 nm. doi:10.1371/journal.pntd.0000623.g003 www.plosntds.org effectively protect large populations from multiple strains of the virus. One of the strengths of DNA consensus vaccines is its ability to induce cross-reactive immune responses against the three distinct phylogenetic groups of CHIKV. Also DNA-based vaccines can be produced more rapidly than protein-based vaccines.\n",
            "\n",
            "Recently, Muthumani et al. constructed a vaccine that was shown to induce both humoral and cellular immunity in vivo in 3-4-wk-old female C57/BL6 mice [49] . These mice were immunized using an in vivo electroporation method to deliver the vaccine into the quadriceps muscle. The consensus construct was designed against E1, E2, and the core protein capsid. To design the construct, they aligned 21 sequences of CHIKV isolated between 1952 and 2006, using strains from differing countries, including La Reunion Island. The most common nucleotide among the sequences was chosen at each position to be used in the consensus construct, taking care not to alter the reading frame. They conducted codon and RNA optimization, added a strong Kozak sequence, and substituted signal peptide with an immunoglobulin E leader sequence to improve vaccine efficacy.\n",
            "\n",
            "After immunizing the mice, spleens were harvested along with serum and tested to determine antibody titer. After three immunizations, consensus E1, E2, and C vaccines were shown to induce T-cell immune responses leading to strong IFN-c responses and proliferation in C57/BL6 mice. Furthermore, when compared with control mice, immunized mice had higher total IgG levels as well as higher anti-E1 specific, anti-E2 specific, and anti-C specific IgG antibodies, suggesting a strong humoral immune response ( Figure 3 ) and also specificity for the antigens encoded in the vaccine constructs ( Figure 4 ). Because of its promising results and the need for a safer vaccine, this consensus DNA vaccine deserves further investigation. Determining longevity of protective effects of the vaccine and persistence of antibody and IFN-c responses could be the next step of investigation. Challenged studies of immunized mice must also be carried out.\n",
            "\n",
            "CHIKV mosquito-borne disease has caused massive outbreaks for at least half a century but is no longer confined to the www.plosntds.org developing nations. It began to encroach into the boundaries of the developing world. As a result, the NIAID has designated CHIKV as a Category C pathogen alongside the influenza and SARS-CoV viruses [3] . Realization of the potential severity of this disease is exigent; for instance, if used as a biological weapon, the world economy could be severely crippled; if enough members of the armed forces were to become infected during a military deployment, military operations could be significantly affected. Efforts to monitor the disease will only provide minimal warning in a global society, and steps to prevent the morbidity and mortality associated with pandemic are imperative [21, 31] . Despite the gravity of its infectious potency and the fear of it being a potential biological weapon, there is currently no vaccine for CHIKV infections. Live attenuated vaccine trials were carried out in 2000, but funding for the project was discontinued. Newer approaches such as DNA vaccines appear promising over conventional strategies like live attenuated or inactivated virus and thus call for further investigation. Recent advances such electroporation delivery and incorporation of adjuvants has boosted DNA vaccine efficacy [51, 53] . Despite the low antibody response to DNA vaccines, other numerous advantages have overshadowed these minor drawbacks (Table 2) , the most important one being the ability to induce both humoral and cellular immune responses [51, 54] .\n",
            "\n",
            "Judging by recent success, such as the immunogenic construct developed by Muthumani et al., DNA vaccines could play a major role in combating CHIKV [49] . Vaccines are literally a critical component of CHIKV disease control and therefore research in this area is highly encouraged. The dramatic spread of dengue viruses (DENV) throughout tropical America since 1980 via the same vectors and human hosts underscores the risk to public health in the Americas. The adverse events associated with the current live vaccine are well documented [55] . Realizing these drawbacks, earnest efforts should be taken to develop new strategies to forestall further spread and complications.\n",
            "Question:  What percentage of population was affected?\n",
            "Answer:  {'answer_start': [8247], 'text': ['34% ']}\n"
          ]
        }
      ],
      "source": [
        "print('Id: ', qa_dataset['train'][0]['id'])\n",
        "print('Context: ', qa_dataset['train'][0]['context'])\n",
        "print('Question: ', qa_dataset['train'][0]['question'])\n",
        "print('Answer: ', qa_dataset['train'][0]['answers'])"
      ]
    },
    {
      "cell_type": "markdown",
      "source": [
        "# Merge SQuAD and CovidQA Datasets\n",
        "* Upsample CovidQA to be same size as SQuAD"
      ],
      "metadata": {
        "id": "aDa-7-UVXiyG"
      }
    },
    {
      "cell_type": "code",
      "source": [
        "from datasets import load_dataset\n",
        "from sklearn.utils import resample\n",
        "\n",
        "def label_dataset(input, label):\n",
        "    return {\"type\": label}\n",
        "\n",
        "if merge:\n",
        "  squad_dataset = load_dataset(\"squad\")\n",
        "  squad_train_df = pd.DataFrame(squad_dataset['train'])\n",
        "  # squad_train_df = squad_dataset[\"train\"][:]\n",
        "  qa_train_df = pd.DataFrame(qa_dataset['train'])\n",
        "  squad_train_df['id'] = squad_train_df['id'].astype(str)\n",
        "  qa_train_df['id'] = qa_train_df['id'].astype(str)\n",
        "\n",
        "  squad_validation_df = pd.DataFrame(squad_dataset[\"validation\"])\n",
        "  qa_validation_df = pd.DataFrame(qa_dataset['validation'])\n",
        "  squad_validation_df['id'] = squad_validation_df['id'].astype(str)\n",
        "  qa_validation_df['id'] = qa_validation_df['id'].astype(str)\n",
        "\n",
        "  # # Merge train\n",
        "  # # Upsample\n",
        "  qa_train_upsample = resample(qa_train_df,\n",
        "              replace=True,\n",
        "              n_samples=len(squad_train_df),\n",
        "              random_state=42)\n",
        "  merged_train = pd.concat([squad_train_df,qa_train_upsample],ignore_index=True)\n",
        "  merged_train_dataset =  Dataset.from_pandas(merged_train)\n",
        "  # # Merge validation\n",
        "  # # Upsample\n",
        "  qa_validation_upsample = resample(qa_validation_df,\n",
        "              replace=True,\n",
        "              n_samples=len(squad_validation_df),\n",
        "              random_state=42)\n",
        "\n",
        "  merged_validation = pd.concat([squad_validation_df,qa_validation_upsample],ignore_index=True)\n",
        "  merged_validation_dataset = Dataset.from_pandas(merged_validation)\n",
        "else:\n",
        "  merged_train_dataset = qa_dataset['train']\n",
        "  merged_validation_dataset = qa_dataset['validation']"
      ],
      "metadata": {
        "id": "R1vyDmGLXpoR"
      },
      "execution_count": null,
      "outputs": []
    },
    {
      "cell_type": "code",
      "source": [
        "print(merged_train_dataset.shape)\n",
        "print(merged_validation_dataset.shape)"
      ],
      "metadata": {
        "colab": {
          "base_uri": "https://localhost:8080/"
        },
        "id": "z_7IxCYVq5pO",
        "outputId": "ddc8d4a3-7534-4d69-be71-2803253ecd75"
      },
      "execution_count": null,
      "outputs": [
        {
          "output_type": "stream",
          "name": "stdout",
          "text": [
            "(1413, 4)\n",
            "(122, 4)\n"
          ]
        }
      ]
    },
    {
      "cell_type": "markdown",
      "source": [
        "# Import Pre-Trained Models"
      ],
      "metadata": {
        "id": "yU2ZVJsv-QaL"
      }
    },
    {
      "cell_type": "code",
      "source": [
        "from transformers import AutoTokenizer\n"
      ],
      "metadata": {
        "id": "K3K95MRwszvC"
      },
      "execution_count": null,
      "outputs": []
    },
    {
      "cell_type": "code",
      "source": [
        "model_name = models[model_id]\n",
        "model_checkpoint = checkpoint_names[model_id]\n",
        "print(model_name)\n",
        "print(model_checkpoint)"
      ],
      "metadata": {
        "colab": {
          "base_uri": "https://localhost:8080/"
        },
        "id": "Q8zD-C_Jd9VR",
        "outputId": "f50f5bbf-89dd-4a71-da33-477a25cf1967"
      },
      "execution_count": null,
      "outputs": [
        {
          "output_type": "stream",
          "name": "stdout",
          "text": [
            "allenai/scibert_scivocab_uncased\n",
            "allenai/scibert-finetuned-squad\n"
          ]
        }
      ]
    },
    {
      "cell_type": "code",
      "execution_count": null,
      "metadata": {
        "id": "iVAIexcXpAIX",
        "colab": {
          "base_uri": "https://localhost:8080/",
          "height": 380
        },
        "outputId": "067c04cb-fb87-41cf-dca5-ddd0021eb4f8"
      },
      "outputs": [
        {
          "output_type": "error",
          "ename": "OSError",
          "evalue": "ignored",
          "traceback": [
            "\u001b[0;31m---------------------------------------------------------------------------\u001b[0m",
            "\u001b[0;31mOSError\u001b[0m                                   Traceback (most recent call last)",
            "\u001b[0;32m<ipython-input-22-f574298d227f>\u001b[0m in \u001b[0;36m<module>\u001b[0;34m\u001b[0m\n\u001b[1;32m      1\u001b[0m \u001b[0;31m#tokenizer = AutoTokenizer.from_pretrained(\"roberta-base\")\u001b[0m\u001b[0;34m\u001b[0m\u001b[0;34m\u001b[0m\u001b[0;34m\u001b[0m\u001b[0m\n\u001b[0;32m----> 2\u001b[0;31m \u001b[0mtokenizer\u001b[0m \u001b[0;34m=\u001b[0m \u001b[0mAutoTokenizer\u001b[0m\u001b[0;34m.\u001b[0m\u001b[0mfrom_pretrained\u001b[0m\u001b[0;34m(\u001b[0m\u001b[0mmodel_name\u001b[0m\u001b[0;34m)\u001b[0m\u001b[0;34m\u001b[0m\u001b[0;34m\u001b[0m\u001b[0m\n\u001b[0m",
            "\u001b[0;32m/usr/local/lib/python3.7/dist-packages/transformers/models/auto/tokenization_auto.py\u001b[0m in \u001b[0;36mfrom_pretrained\u001b[0;34m(cls, pretrained_model_name_or_path, *inputs, **kwargs)\u001b[0m\n\u001b[1;32m    574\u001b[0m             \u001b[0;32mif\u001b[0m \u001b[0;32mnot\u001b[0m \u001b[0misinstance\u001b[0m\u001b[0;34m(\u001b[0m\u001b[0mconfig\u001b[0m\u001b[0;34m,\u001b[0m \u001b[0mPretrainedConfig\u001b[0m\u001b[0;34m)\u001b[0m\u001b[0;34m:\u001b[0m\u001b[0;34m\u001b[0m\u001b[0;34m\u001b[0m\u001b[0m\n\u001b[1;32m    575\u001b[0m                 config = AutoConfig.from_pretrained(\n\u001b[0;32m--> 576\u001b[0;31m                     \u001b[0mpretrained_model_name_or_path\u001b[0m\u001b[0;34m,\u001b[0m \u001b[0mtrust_remote_code\u001b[0m\u001b[0;34m=\u001b[0m\u001b[0mtrust_remote_code\u001b[0m\u001b[0;34m,\u001b[0m \u001b[0;34m**\u001b[0m\u001b[0mkwargs\u001b[0m\u001b[0;34m\u001b[0m\u001b[0;34m\u001b[0m\u001b[0m\n\u001b[0m\u001b[1;32m    577\u001b[0m                 )\n\u001b[1;32m    578\u001b[0m             \u001b[0mconfig_tokenizer_class\u001b[0m \u001b[0;34m=\u001b[0m \u001b[0mconfig\u001b[0m\u001b[0;34m.\u001b[0m\u001b[0mtokenizer_class\u001b[0m\u001b[0;34m\u001b[0m\u001b[0;34m\u001b[0m\u001b[0m\n",
            "\u001b[0;32m/usr/local/lib/python3.7/dist-packages/transformers/models/auto/configuration_auto.py\u001b[0m in \u001b[0;36mfrom_pretrained\u001b[0;34m(cls, pretrained_model_name_or_path, **kwargs)\u001b[0m\n\u001b[1;32m    774\u001b[0m         \u001b[0mkwargs\u001b[0m\u001b[0;34m[\u001b[0m\u001b[0;34m\"name_or_path\"\u001b[0m\u001b[0;34m]\u001b[0m \u001b[0;34m=\u001b[0m \u001b[0mpretrained_model_name_or_path\u001b[0m\u001b[0;34m\u001b[0m\u001b[0;34m\u001b[0m\u001b[0m\n\u001b[1;32m    775\u001b[0m         \u001b[0mtrust_remote_code\u001b[0m \u001b[0;34m=\u001b[0m \u001b[0mkwargs\u001b[0m\u001b[0;34m.\u001b[0m\u001b[0mpop\u001b[0m\u001b[0;34m(\u001b[0m\u001b[0;34m\"trust_remote_code\"\u001b[0m\u001b[0;34m,\u001b[0m \u001b[0;32mFalse\u001b[0m\u001b[0;34m)\u001b[0m\u001b[0;34m\u001b[0m\u001b[0;34m\u001b[0m\u001b[0m\n\u001b[0;32m--> 776\u001b[0;31m         \u001b[0mconfig_dict\u001b[0m\u001b[0;34m,\u001b[0m \u001b[0munused_kwargs\u001b[0m \u001b[0;34m=\u001b[0m \u001b[0mPretrainedConfig\u001b[0m\u001b[0;34m.\u001b[0m\u001b[0mget_config_dict\u001b[0m\u001b[0;34m(\u001b[0m\u001b[0mpretrained_model_name_or_path\u001b[0m\u001b[0;34m,\u001b[0m \u001b[0;34m**\u001b[0m\u001b[0mkwargs\u001b[0m\u001b[0;34m)\u001b[0m\u001b[0;34m\u001b[0m\u001b[0;34m\u001b[0m\u001b[0m\n\u001b[0m\u001b[1;32m    777\u001b[0m         \u001b[0;32mif\u001b[0m \u001b[0;34m\"auto_map\"\u001b[0m \u001b[0;32min\u001b[0m \u001b[0mconfig_dict\u001b[0m \u001b[0;32mand\u001b[0m \u001b[0;34m\"AutoConfig\"\u001b[0m \u001b[0;32min\u001b[0m \u001b[0mconfig_dict\u001b[0m\u001b[0;34m[\u001b[0m\u001b[0;34m\"auto_map\"\u001b[0m\u001b[0;34m]\u001b[0m\u001b[0;34m:\u001b[0m\u001b[0;34m\u001b[0m\u001b[0;34m\u001b[0m\u001b[0m\n\u001b[1;32m    778\u001b[0m             \u001b[0;32mif\u001b[0m \u001b[0;32mnot\u001b[0m \u001b[0mtrust_remote_code\u001b[0m\u001b[0;34m:\u001b[0m\u001b[0;34m\u001b[0m\u001b[0;34m\u001b[0m\u001b[0m\n",
            "\u001b[0;32m/usr/local/lib/python3.7/dist-packages/transformers/configuration_utils.py\u001b[0m in \u001b[0;36mget_config_dict\u001b[0;34m(cls, pretrained_model_name_or_path, **kwargs)\u001b[0m\n\u001b[1;32m    557\u001b[0m         \u001b[0moriginal_kwargs\u001b[0m \u001b[0;34m=\u001b[0m \u001b[0mcopy\u001b[0m\u001b[0;34m.\u001b[0m\u001b[0mdeepcopy\u001b[0m\u001b[0;34m(\u001b[0m\u001b[0mkwargs\u001b[0m\u001b[0;34m)\u001b[0m\u001b[0;34m\u001b[0m\u001b[0;34m\u001b[0m\u001b[0m\n\u001b[1;32m    558\u001b[0m         \u001b[0;31m# Get config dict associated with the base config file\u001b[0m\u001b[0;34m\u001b[0m\u001b[0;34m\u001b[0m\u001b[0;34m\u001b[0m\u001b[0m\n\u001b[0;32m--> 559\u001b[0;31m         \u001b[0mconfig_dict\u001b[0m\u001b[0;34m,\u001b[0m \u001b[0mkwargs\u001b[0m \u001b[0;34m=\u001b[0m \u001b[0mcls\u001b[0m\u001b[0;34m.\u001b[0m\u001b[0m_get_config_dict\u001b[0m\u001b[0;34m(\u001b[0m\u001b[0mpretrained_model_name_or_path\u001b[0m\u001b[0;34m,\u001b[0m \u001b[0;34m**\u001b[0m\u001b[0mkwargs\u001b[0m\u001b[0;34m)\u001b[0m\u001b[0;34m\u001b[0m\u001b[0;34m\u001b[0m\u001b[0m\n\u001b[0m\u001b[1;32m    560\u001b[0m         \u001b[0;32mif\u001b[0m \u001b[0;34m\"_commit_hash\"\u001b[0m \u001b[0;32min\u001b[0m \u001b[0mconfig_dict\u001b[0m\u001b[0;34m:\u001b[0m\u001b[0;34m\u001b[0m\u001b[0;34m\u001b[0m\u001b[0m\n\u001b[1;32m    561\u001b[0m             \u001b[0moriginal_kwargs\u001b[0m\u001b[0;34m[\u001b[0m\u001b[0;34m\"_commit_hash\"\u001b[0m\u001b[0;34m]\u001b[0m \u001b[0;34m=\u001b[0m \u001b[0mconfig_dict\u001b[0m\u001b[0;34m[\u001b[0m\u001b[0;34m\"_commit_hash\"\u001b[0m\u001b[0;34m]\u001b[0m\u001b[0;34m\u001b[0m\u001b[0;34m\u001b[0m\u001b[0m\n",
            "\u001b[0;32m/usr/local/lib/python3.7/dist-packages/transformers/configuration_utils.py\u001b[0m in \u001b[0;36m_get_config_dict\u001b[0;34m(cls, pretrained_model_name_or_path, **kwargs)\u001b[0m\n\u001b[1;32m    624\u001b[0m                     \u001b[0mrevision\u001b[0m\u001b[0;34m=\u001b[0m\u001b[0mrevision\u001b[0m\u001b[0;34m,\u001b[0m\u001b[0;34m\u001b[0m\u001b[0;34m\u001b[0m\u001b[0m\n\u001b[1;32m    625\u001b[0m                     \u001b[0msubfolder\u001b[0m\u001b[0;34m=\u001b[0m\u001b[0msubfolder\u001b[0m\u001b[0;34m,\u001b[0m\u001b[0;34m\u001b[0m\u001b[0;34m\u001b[0m\u001b[0m\n\u001b[0;32m--> 626\u001b[0;31m                     \u001b[0m_commit_hash\u001b[0m\u001b[0;34m=\u001b[0m\u001b[0mcommit_hash\u001b[0m\u001b[0;34m,\u001b[0m\u001b[0;34m\u001b[0m\u001b[0;34m\u001b[0m\u001b[0m\n\u001b[0m\u001b[1;32m    627\u001b[0m                 )\n\u001b[1;32m    628\u001b[0m                 \u001b[0mcommit_hash\u001b[0m \u001b[0;34m=\u001b[0m \u001b[0mextract_commit_hash\u001b[0m\u001b[0;34m(\u001b[0m\u001b[0mresolved_config_file\u001b[0m\u001b[0;34m,\u001b[0m \u001b[0mcommit_hash\u001b[0m\u001b[0;34m)\u001b[0m\u001b[0;34m\u001b[0m\u001b[0;34m\u001b[0m\u001b[0m\n",
            "\u001b[0;32m/usr/local/lib/python3.7/dist-packages/transformers/utils/hub.py\u001b[0m in \u001b[0;36mcached_file\u001b[0;34m(path_or_repo_id, filename, cache_dir, force_download, resume_download, proxies, use_auth_token, revision, local_files_only, subfolder, user_agent, _raise_exceptions_for_missing_entries, _raise_exceptions_for_connection_errors, _commit_hash)\u001b[0m\n\u001b[1;32m    379\u001b[0m             \u001b[0;32mif\u001b[0m \u001b[0m_raise_exceptions_for_missing_entries\u001b[0m\u001b[0;34m:\u001b[0m\u001b[0;34m\u001b[0m\u001b[0;34m\u001b[0m\u001b[0m\n\u001b[1;32m    380\u001b[0m                 raise EnvironmentError(\n\u001b[0;32m--> 381\u001b[0;31m                     \u001b[0;34mf\"{path_or_repo_id} does not appear to have a file named {full_filename}. Checkout \"\u001b[0m\u001b[0;34m\u001b[0m\u001b[0;34m\u001b[0m\u001b[0m\n\u001b[0m\u001b[1;32m    382\u001b[0m                     \u001b[0;34mf\"'https://huggingface.co/{path_or_repo_id}/{revision}' for available files.\"\u001b[0m\u001b[0;34m\u001b[0m\u001b[0;34m\u001b[0m\u001b[0m\n\u001b[1;32m    383\u001b[0m                 )\n",
            "\u001b[0;31mOSError\u001b[0m: allenai/scibert_scivocab_uncased does not appear to have a file named config.json. Checkout 'https://huggingface.co/allenai/scibert_scivocab_uncased/None' for available files."
          ]
        }
      ],
      "source": [
        "#tokenizer = AutoTokenizer.from_pretrained(\"roberta-base\")\n",
        "tokenizer = AutoTokenizer.from_pretrained(model_name)"
      ]
    },
    {
      "cell_type": "code",
      "execution_count": null,
      "metadata": {
        "id": "9Kd4-gVBVHRC"
      },
      "outputs": [],
      "source": [
        "|max_length = 384\n",
        "stride = 128\n",
        "\n",
        "def preprocess_training_examples(examples):\n",
        "    questions = [q.strip() for q in examples[\"question\"]]\n",
        "    inputs = tokenizer(\n",
        "        questions,\n",
        "        examples[\"context\"],\n",
        "        max_length = max_length,\n",
        "        truncation = \"only_second\",\n",
        "        stride = stride,\n",
        "        return_overflowing_tokens = True,\n",
        "        return_offsets_mapping = True,\n",
        "        padding = \"max_length\",\n",
        "    )\n",
        "\n",
        "    # Each member of offset_mapping is list of (start, stop) tuples representing span in context that tokens correspond to\n",
        "    # Sample map is list of indices of samples that each feature is mapped to\n",
        "    offset_mapping = inputs.pop(\"offset_mapping\")\n",
        "    sample_map = inputs.pop(\"overflow_to_sample_mapping\")\n",
        "    answers = examples[\"answers\"]\n",
        "    start_positions = []\n",
        "    end_positions = []\n",
        "    \n",
        "    # Iterate through features\n",
        "    # Multiple features can be mapped to one sample due to truncation\n",
        "    for i, offset in enumerate(offset_mapping):\n",
        "        sample_idx = sample_map[i]\n",
        "        answer = answers[sample_idx]\n",
        "        start_char = answer[\"answer_start\"][0]\n",
        "        end_char = answer[\"answer_start\"][0] + len(answer[\"text\"][0])\n",
        "        # sequence_ids is list of 1s and 0s - 0 for question token and 1 for context token\n",
        "        sequence_ids = inputs.sequence_ids(i)\n",
        "\n",
        "        # Find the start and end of the context\n",
        "        idx = 0\n",
        "        while sequence_ids[idx] != 1:\n",
        "            idx += 1\n",
        "        context_start = idx\n",
        "        while sequence_ids[idx] == 1:\n",
        "            idx += 1\n",
        "        context_end = idx - 1\n",
        "\n",
        "        # If the answer is not fully inside the context, label is (0, 0)\n",
        "        if offset[context_start][0] > start_char or offset[context_end][1] < end_char:\n",
        "            start_positions.append(0)\n",
        "            end_positions.append(0)\n",
        "        else:\n",
        "            # Otherwise it's the start and end token positions\n",
        "            idx = context_start\n",
        "            while idx <= context_end and offset[idx][0] <= start_char:\n",
        "                idx += 1\n",
        "            start_positions.append(idx - 1)\n",
        "\n",
        "            idx = context_end\n",
        "            while idx >= context_start and offset[idx][1] >= end_char:\n",
        "                idx -= 1\n",
        "            end_positions.append(idx + 1)\n",
        "\n",
        "    inputs[\"start_positions\"] = start_positions\n",
        "    inputs[\"end_positions\"] = end_positions\n",
        "    return inputs"
      ]
    },
    {
      "cell_type": "code",
      "execution_count": null,
      "metadata": {
        "colab": {
          "base_uri": "https://localhost:8080/",
          "height": 246
        },
        "id": "c5732ETjVPug",
        "outputId": "dcb6478b-7885-4674-c198-38b7912ca12a"
      },
      "outputs": [
        {
          "output_type": "error",
          "ename": "NameError",
          "evalue": "ignored",
          "traceback": [
            "\u001b[0;31m---------------------------------------------------------------------------\u001b[0m",
            "\u001b[0;31mNameError\u001b[0m                                 Traceback (most recent call last)",
            "\u001b[0;32m<ipython-input-14-97afd928403f>\u001b[0m in \u001b[0;36m<module>\u001b[0;34m\u001b[0m\n\u001b[1;32m      7\u001b[0m \u001b[0;32melse\u001b[0m\u001b[0;34m:\u001b[0m\u001b[0;34m\u001b[0m\u001b[0;34m\u001b[0m\u001b[0m\n\u001b[1;32m      8\u001b[0m   train_dataset = qa_dataset['train'].map(\n\u001b[0;32m----> 9\u001b[0;31m       \u001b[0mpreprocess_training_examples\u001b[0m\u001b[0;34m,\u001b[0m\u001b[0;34m\u001b[0m\u001b[0;34m\u001b[0m\u001b[0m\n\u001b[0m\u001b[1;32m     10\u001b[0m       \u001b[0mbatched\u001b[0m \u001b[0;34m=\u001b[0m \u001b[0;32mTrue\u001b[0m\u001b[0;34m,\u001b[0m\u001b[0;34m\u001b[0m\u001b[0;34m\u001b[0m\u001b[0m\n\u001b[1;32m     11\u001b[0m       \u001b[0mremove_columns\u001b[0m \u001b[0;34m=\u001b[0m \u001b[0mqa_dataset\u001b[0m\u001b[0;34m[\u001b[0m\u001b[0;34m'train'\u001b[0m\u001b[0;34m]\u001b[0m\u001b[0;34m.\u001b[0m\u001b[0mcolumn_names\u001b[0m\u001b[0;34m\u001b[0m\u001b[0;34m\u001b[0m\u001b[0m\n",
            "\u001b[0;31mNameError\u001b[0m: name 'preprocess_training_examples' is not defined"
          ]
        }
      ],
      "source": [
        "if merge:\n",
        "  train_dataset = merged_train_dataset.map(\n",
        "      preprocess_training_examples,\n",
        "      batched = True,\n",
        "      remove_columns = merged_train_dataset.column_names\n",
        "  )\n",
        "else: \n",
        "  train_dataset = qa_dataset['train'].map(\n",
        "      preprocess_training_examples,\n",
        "      batched = True,\n",
        "      remove_columns = qa_dataset['train'].column_names\n",
        "      )"
      ]
    },
    {
      "cell_type": "code",
      "execution_count": null,
      "metadata": {
        "id": "4y2yKglrWKxP"
      },
      "outputs": [],
      "source": [
        "def preprocess_validation_examples(examples):\n",
        "    questions = [q.strip() for q in examples[\"question\"]]\n",
        "    inputs = tokenizer(\n",
        "        questions,\n",
        "        examples[\"context\"],\n",
        "        max_length = max_length,\n",
        "        truncation = \"only_second\",\n",
        "        stride = stride,\n",
        "        return_overflowing_tokens = True,\n",
        "        return_offsets_mapping = True,\n",
        "        padding = \"max_length\",\n",
        "    )\n",
        "\n",
        "    sample_map = inputs.pop(\"overflow_to_sample_mapping\")\n",
        "    example_ids = []\n",
        "\n",
        "    for i in range(len(inputs[\"input_ids\"])):\n",
        "        sample_idx = sample_map[i]\n",
        "        example_ids.append(examples[\"id\"][sample_idx])\n",
        "\n",
        "        sequence_ids = inputs.sequence_ids(i)\n",
        "        offset = inputs[\"offset_mapping\"][i]\n",
        "        inputs[\"offset_mapping\"][i] = [\n",
        "            o if sequence_ids[k] == 1 else None for k, o in enumerate(offset)\n",
        "        ]\n",
        "\n",
        "    inputs[\"example_id\"] = example_ids\n",
        "    return inputs"
      ]
    },
    {
      "cell_type": "code",
      "execution_count": null,
      "metadata": {
        "id": "I-Zv0QhSFHkb",
        "colab": {
          "base_uri": "https://localhost:8080/",
          "height": 412,
          "referenced_widgets": [
            "19b5e574fb86490fae00e33ee0ccd429",
            "5de398b671874c6295368e07c90d5e63",
            "a4499bae127d42da97383b62534f34db",
            "f8fb6d54cff745239207f7b00bb8b8c9",
            "935e7abd77c24a15b3d6cb1032551d40",
            "108c3d46d57b45f990d515d0da970a7f",
            "baf4ca5161ac464c83fc3c33950e81f1",
            "350bd9c5c2134922b759eafc6d80f461",
            "54d978c845fa4f389aae30f0f152e483",
            "07318d190b2647829add641929fa76a6",
            "bc83db755cfa4036acfe416aee7850d2"
          ]
        },
        "outputId": "9bb9c839-e767-4772-bb9d-1c62350b7003"
      },
      "outputs": [
        {
          "output_type": "display_data",
          "data": {
            "text/plain": [
              "  0%|          | 0/1 [00:00<?, ?ba/s]"
            ],
            "application/vnd.jupyter.widget-view+json": {
              "version_major": 2,
              "version_minor": 0,
              "model_id": "19b5e574fb86490fae00e33ee0ccd429"
            }
          },
          "metadata": {}
        },
        {
          "output_type": "error",
          "ename": "NameError",
          "evalue": "ignored",
          "traceback": [
            "\u001b[0;31m---------------------------------------------------------------------------\u001b[0m",
            "\u001b[0;31mNameError\u001b[0m                                 Traceback (most recent call last)",
            "\u001b[0;32m<ipython-input-16-36a6d87c8b72>\u001b[0m in \u001b[0;36m<module>\u001b[0;34m\u001b[0m\n\u001b[1;32m      9\u001b[0m       \u001b[0mpreprocess_validation_examples\u001b[0m\u001b[0;34m,\u001b[0m\u001b[0;34m\u001b[0m\u001b[0;34m\u001b[0m\u001b[0m\n\u001b[1;32m     10\u001b[0m       \u001b[0mbatched\u001b[0m \u001b[0;34m=\u001b[0m \u001b[0;32mTrue\u001b[0m\u001b[0;34m,\u001b[0m\u001b[0;34m\u001b[0m\u001b[0;34m\u001b[0m\u001b[0m\n\u001b[0;32m---> 11\u001b[0;31m       \u001b[0mremove_columns\u001b[0m \u001b[0;34m=\u001b[0m \u001b[0mqa_dataset\u001b[0m\u001b[0;34m[\u001b[0m\u001b[0;34m\"validation\"\u001b[0m\u001b[0;34m]\u001b[0m\u001b[0;34m.\u001b[0m\u001b[0mcolumn_names\u001b[0m\u001b[0;34m,\u001b[0m\u001b[0;34m\u001b[0m\u001b[0;34m\u001b[0m\u001b[0m\n\u001b[0m\u001b[1;32m     12\u001b[0m       )\n",
            "\u001b[0;32m/usr/local/lib/python3.7/dist-packages/datasets/arrow_dataset.py\u001b[0m in \u001b[0;36mmap\u001b[0;34m(self, function, with_indices, with_rank, input_columns, batched, batch_size, drop_last_batch, remove_columns, keep_in_memory, load_from_cache_file, cache_file_name, writer_batch_size, features, disable_nullable, fn_kwargs, num_proc, suffix_template, new_fingerprint, desc)\u001b[0m\n\u001b[1;32m   2588\u001b[0m                 \u001b[0mnew_fingerprint\u001b[0m\u001b[0;34m=\u001b[0m\u001b[0mnew_fingerprint\u001b[0m\u001b[0;34m,\u001b[0m\u001b[0;34m\u001b[0m\u001b[0;34m\u001b[0m\u001b[0m\n\u001b[1;32m   2589\u001b[0m                 \u001b[0mdisable_tqdm\u001b[0m\u001b[0;34m=\u001b[0m\u001b[0mdisable_tqdm\u001b[0m\u001b[0;34m,\u001b[0m\u001b[0;34m\u001b[0m\u001b[0;34m\u001b[0m\u001b[0m\n\u001b[0;32m-> 2590\u001b[0;31m                 \u001b[0mdesc\u001b[0m\u001b[0;34m=\u001b[0m\u001b[0mdesc\u001b[0m\u001b[0;34m,\u001b[0m\u001b[0;34m\u001b[0m\u001b[0;34m\u001b[0m\u001b[0m\n\u001b[0m\u001b[1;32m   2591\u001b[0m             )\n\u001b[1;32m   2592\u001b[0m         \u001b[0;32melse\u001b[0m\u001b[0;34m:\u001b[0m\u001b[0;34m\u001b[0m\u001b[0;34m\u001b[0m\u001b[0m\n",
            "\u001b[0;32m/usr/local/lib/python3.7/dist-packages/datasets/arrow_dataset.py\u001b[0m in \u001b[0;36mwrapper\u001b[0;34m(*args, **kwargs)\u001b[0m\n\u001b[1;32m    582\u001b[0m             \u001b[0mself\u001b[0m\u001b[0;34m:\u001b[0m \u001b[0;34m\"Dataset\"\u001b[0m \u001b[0;34m=\u001b[0m \u001b[0mkwargs\u001b[0m\u001b[0;34m.\u001b[0m\u001b[0mpop\u001b[0m\u001b[0;34m(\u001b[0m\u001b[0;34m\"self\"\u001b[0m\u001b[0;34m)\u001b[0m\u001b[0;34m\u001b[0m\u001b[0;34m\u001b[0m\u001b[0m\n\u001b[1;32m    583\u001b[0m         \u001b[0;31m# apply actual function\u001b[0m\u001b[0;34m\u001b[0m\u001b[0;34m\u001b[0m\u001b[0;34m\u001b[0m\u001b[0m\n\u001b[0;32m--> 584\u001b[0;31m         \u001b[0mout\u001b[0m\u001b[0;34m:\u001b[0m \u001b[0mUnion\u001b[0m\u001b[0;34m[\u001b[0m\u001b[0;34m\"Dataset\"\u001b[0m\u001b[0;34m,\u001b[0m \u001b[0;34m\"DatasetDict\"\u001b[0m\u001b[0;34m]\u001b[0m \u001b[0;34m=\u001b[0m \u001b[0mfunc\u001b[0m\u001b[0;34m(\u001b[0m\u001b[0mself\u001b[0m\u001b[0;34m,\u001b[0m \u001b[0;34m*\u001b[0m\u001b[0margs\u001b[0m\u001b[0;34m,\u001b[0m \u001b[0;34m**\u001b[0m\u001b[0mkwargs\u001b[0m\u001b[0;34m)\u001b[0m\u001b[0;34m\u001b[0m\u001b[0;34m\u001b[0m\u001b[0m\n\u001b[0m\u001b[1;32m    585\u001b[0m         \u001b[0mdatasets\u001b[0m\u001b[0;34m:\u001b[0m \u001b[0mList\u001b[0m\u001b[0;34m[\u001b[0m\u001b[0;34m\"Dataset\"\u001b[0m\u001b[0;34m]\u001b[0m \u001b[0;34m=\u001b[0m \u001b[0mlist\u001b[0m\u001b[0;34m(\u001b[0m\u001b[0mout\u001b[0m\u001b[0;34m.\u001b[0m\u001b[0mvalues\u001b[0m\u001b[0;34m(\u001b[0m\u001b[0;34m)\u001b[0m\u001b[0;34m)\u001b[0m \u001b[0;32mif\u001b[0m \u001b[0misinstance\u001b[0m\u001b[0;34m(\u001b[0m\u001b[0mout\u001b[0m\u001b[0;34m,\u001b[0m \u001b[0mdict\u001b[0m\u001b[0;34m)\u001b[0m \u001b[0;32melse\u001b[0m \u001b[0;34m[\u001b[0m\u001b[0mout\u001b[0m\u001b[0;34m]\u001b[0m\u001b[0;34m\u001b[0m\u001b[0;34m\u001b[0m\u001b[0m\n\u001b[1;32m    586\u001b[0m         \u001b[0;32mfor\u001b[0m \u001b[0mdataset\u001b[0m \u001b[0;32min\u001b[0m \u001b[0mdatasets\u001b[0m\u001b[0;34m:\u001b[0m\u001b[0;34m\u001b[0m\u001b[0;34m\u001b[0m\u001b[0m\n",
            "\u001b[0;32m/usr/local/lib/python3.7/dist-packages/datasets/arrow_dataset.py\u001b[0m in \u001b[0;36mwrapper\u001b[0;34m(*args, **kwargs)\u001b[0m\n\u001b[1;32m    549\u001b[0m         }\n\u001b[1;32m    550\u001b[0m         \u001b[0;31m# apply actual function\u001b[0m\u001b[0;34m\u001b[0m\u001b[0;34m\u001b[0m\u001b[0;34m\u001b[0m\u001b[0m\n\u001b[0;32m--> 551\u001b[0;31m         \u001b[0mout\u001b[0m\u001b[0;34m:\u001b[0m \u001b[0mUnion\u001b[0m\u001b[0;34m[\u001b[0m\u001b[0;34m\"Dataset\"\u001b[0m\u001b[0;34m,\u001b[0m \u001b[0;34m\"DatasetDict\"\u001b[0m\u001b[0;34m]\u001b[0m \u001b[0;34m=\u001b[0m \u001b[0mfunc\u001b[0m\u001b[0;34m(\u001b[0m\u001b[0mself\u001b[0m\u001b[0;34m,\u001b[0m \u001b[0;34m*\u001b[0m\u001b[0margs\u001b[0m\u001b[0;34m,\u001b[0m \u001b[0;34m**\u001b[0m\u001b[0mkwargs\u001b[0m\u001b[0;34m)\u001b[0m\u001b[0;34m\u001b[0m\u001b[0;34m\u001b[0m\u001b[0m\n\u001b[0m\u001b[1;32m    552\u001b[0m         \u001b[0mdatasets\u001b[0m\u001b[0;34m:\u001b[0m \u001b[0mList\u001b[0m\u001b[0;34m[\u001b[0m\u001b[0;34m\"Dataset\"\u001b[0m\u001b[0;34m]\u001b[0m \u001b[0;34m=\u001b[0m \u001b[0mlist\u001b[0m\u001b[0;34m(\u001b[0m\u001b[0mout\u001b[0m\u001b[0;34m.\u001b[0m\u001b[0mvalues\u001b[0m\u001b[0;34m(\u001b[0m\u001b[0;34m)\u001b[0m\u001b[0;34m)\u001b[0m \u001b[0;32mif\u001b[0m \u001b[0misinstance\u001b[0m\u001b[0;34m(\u001b[0m\u001b[0mout\u001b[0m\u001b[0;34m,\u001b[0m \u001b[0mdict\u001b[0m\u001b[0;34m)\u001b[0m \u001b[0;32melse\u001b[0m \u001b[0;34m[\u001b[0m\u001b[0mout\u001b[0m\u001b[0;34m]\u001b[0m\u001b[0;34m\u001b[0m\u001b[0;34m\u001b[0m\u001b[0m\n\u001b[1;32m    553\u001b[0m         \u001b[0;31m# re-apply format to the output\u001b[0m\u001b[0;34m\u001b[0m\u001b[0;34m\u001b[0m\u001b[0;34m\u001b[0m\u001b[0m\n",
            "\u001b[0;32m/usr/local/lib/python3.7/dist-packages/datasets/fingerprint.py\u001b[0m in \u001b[0;36mwrapper\u001b[0;34m(*args, **kwargs)\u001b[0m\n\u001b[1;32m    478\u001b[0m             \u001b[0;31m# Call actual function\u001b[0m\u001b[0;34m\u001b[0m\u001b[0;34m\u001b[0m\u001b[0;34m\u001b[0m\u001b[0m\n\u001b[1;32m    479\u001b[0m \u001b[0;34m\u001b[0m\u001b[0m\n\u001b[0;32m--> 480\u001b[0;31m             \u001b[0mout\u001b[0m \u001b[0;34m=\u001b[0m \u001b[0mfunc\u001b[0m\u001b[0;34m(\u001b[0m\u001b[0mself\u001b[0m\u001b[0;34m,\u001b[0m \u001b[0;34m*\u001b[0m\u001b[0margs\u001b[0m\u001b[0;34m,\u001b[0m \u001b[0;34m**\u001b[0m\u001b[0mkwargs\u001b[0m\u001b[0;34m)\u001b[0m\u001b[0;34m\u001b[0m\u001b[0;34m\u001b[0m\u001b[0m\n\u001b[0m\u001b[1;32m    481\u001b[0m \u001b[0;34m\u001b[0m\u001b[0m\n\u001b[1;32m    482\u001b[0m             \u001b[0;31m# Update fingerprint of in-place transforms + update in-place history of transforms\u001b[0m\u001b[0;34m\u001b[0m\u001b[0;34m\u001b[0m\u001b[0;34m\u001b[0m\u001b[0m\n",
            "\u001b[0;32m/usr/local/lib/python3.7/dist-packages/datasets/arrow_dataset.py\u001b[0m in \u001b[0;36m_map_single\u001b[0;34m(self, function, with_indices, with_rank, input_columns, batched, batch_size, drop_last_batch, remove_columns, keep_in_memory, load_from_cache_file, cache_file_name, writer_batch_size, features, disable_nullable, fn_kwargs, new_fingerprint, rank, offset, disable_tqdm, desc, cache_only)\u001b[0m\n\u001b[1;32m   2970\u001b[0m                                 \u001b[0mindices\u001b[0m\u001b[0;34m,\u001b[0m\u001b[0;34m\u001b[0m\u001b[0;34m\u001b[0m\u001b[0m\n\u001b[1;32m   2971\u001b[0m                                 \u001b[0mcheck_same_num_examples\u001b[0m\u001b[0;34m=\u001b[0m\u001b[0mlen\u001b[0m\u001b[0;34m(\u001b[0m\u001b[0minput_dataset\u001b[0m\u001b[0;34m.\u001b[0m\u001b[0mlist_indexes\u001b[0m\u001b[0;34m(\u001b[0m\u001b[0;34m)\u001b[0m\u001b[0;34m)\u001b[0m \u001b[0;34m>\u001b[0m \u001b[0;36m0\u001b[0m\u001b[0;34m,\u001b[0m\u001b[0;34m\u001b[0m\u001b[0;34m\u001b[0m\u001b[0m\n\u001b[0;32m-> 2972\u001b[0;31m                                 \u001b[0moffset\u001b[0m\u001b[0;34m=\u001b[0m\u001b[0moffset\u001b[0m\u001b[0;34m,\u001b[0m\u001b[0;34m\u001b[0m\u001b[0;34m\u001b[0m\u001b[0m\n\u001b[0m\u001b[1;32m   2973\u001b[0m                             )\n\u001b[1;32m   2974\u001b[0m                         \u001b[0;32mexcept\u001b[0m \u001b[0mNumExamplesMismatchError\u001b[0m\u001b[0;34m:\u001b[0m\u001b[0;34m\u001b[0m\u001b[0;34m\u001b[0m\u001b[0m\n",
            "\u001b[0;32m/usr/local/lib/python3.7/dist-packages/datasets/arrow_dataset.py\u001b[0m in \u001b[0;36mapply_function_on_filtered_inputs\u001b[0;34m(inputs, indices, check_same_num_examples, offset)\u001b[0m\n\u001b[1;32m   2850\u001b[0m             \u001b[0;32mif\u001b[0m \u001b[0mwith_rank\u001b[0m\u001b[0;34m:\u001b[0m\u001b[0;34m\u001b[0m\u001b[0;34m\u001b[0m\u001b[0m\n\u001b[1;32m   2851\u001b[0m                 \u001b[0madditional_args\u001b[0m \u001b[0;34m+=\u001b[0m \u001b[0;34m(\u001b[0m\u001b[0mrank\u001b[0m\u001b[0;34m,\u001b[0m\u001b[0;34m)\u001b[0m\u001b[0;34m\u001b[0m\u001b[0;34m\u001b[0m\u001b[0m\n\u001b[0;32m-> 2852\u001b[0;31m             \u001b[0mprocessed_inputs\u001b[0m \u001b[0;34m=\u001b[0m \u001b[0mfunction\u001b[0m\u001b[0;34m(\u001b[0m\u001b[0;34m*\u001b[0m\u001b[0mfn_args\u001b[0m\u001b[0;34m,\u001b[0m \u001b[0;34m*\u001b[0m\u001b[0madditional_args\u001b[0m\u001b[0;34m,\u001b[0m \u001b[0;34m**\u001b[0m\u001b[0mfn_kwargs\u001b[0m\u001b[0;34m)\u001b[0m\u001b[0;34m\u001b[0m\u001b[0;34m\u001b[0m\u001b[0m\n\u001b[0m\u001b[1;32m   2853\u001b[0m             \u001b[0;32mif\u001b[0m \u001b[0mupdate_data\u001b[0m \u001b[0;32mis\u001b[0m \u001b[0;32mNone\u001b[0m\u001b[0;34m:\u001b[0m\u001b[0;34m\u001b[0m\u001b[0;34m\u001b[0m\u001b[0m\n\u001b[1;32m   2854\u001b[0m                 \u001b[0;31m# Check if the function returns updated examples\u001b[0m\u001b[0;34m\u001b[0m\u001b[0;34m\u001b[0m\u001b[0;34m\u001b[0m\u001b[0m\n",
            "\u001b[0;32m/usr/local/lib/python3.7/dist-packages/datasets/arrow_dataset.py\u001b[0m in \u001b[0;36mdecorated\u001b[0;34m(item, *args, **kwargs)\u001b[0m\n\u001b[1;32m   2530\u001b[0m                 )\n\u001b[1;32m   2531\u001b[0m                 \u001b[0;31m# Use the LazyDict internally, while mapping the function\u001b[0m\u001b[0;34m\u001b[0m\u001b[0;34m\u001b[0m\u001b[0;34m\u001b[0m\u001b[0m\n\u001b[0;32m-> 2532\u001b[0;31m                 \u001b[0mresult\u001b[0m \u001b[0;34m=\u001b[0m \u001b[0mf\u001b[0m\u001b[0;34m(\u001b[0m\u001b[0mdecorated_item\u001b[0m\u001b[0;34m,\u001b[0m \u001b[0;34m*\u001b[0m\u001b[0margs\u001b[0m\u001b[0;34m,\u001b[0m \u001b[0;34m**\u001b[0m\u001b[0mkwargs\u001b[0m\u001b[0;34m)\u001b[0m\u001b[0;34m\u001b[0m\u001b[0;34m\u001b[0m\u001b[0m\n\u001b[0m\u001b[1;32m   2533\u001b[0m                 \u001b[0;31m# Return a standard dict\u001b[0m\u001b[0;34m\u001b[0m\u001b[0;34m\u001b[0m\u001b[0;34m\u001b[0m\u001b[0m\n\u001b[1;32m   2534\u001b[0m                 \u001b[0;32mreturn\u001b[0m \u001b[0mresult\u001b[0m\u001b[0;34m.\u001b[0m\u001b[0mdata\u001b[0m \u001b[0;32mif\u001b[0m \u001b[0misinstance\u001b[0m\u001b[0;34m(\u001b[0m\u001b[0mresult\u001b[0m\u001b[0;34m,\u001b[0m \u001b[0mLazyDict\u001b[0m\u001b[0;34m)\u001b[0m \u001b[0;32melse\u001b[0m \u001b[0mresult\u001b[0m\u001b[0;34m\u001b[0m\u001b[0;34m\u001b[0m\u001b[0m\n",
            "\u001b[0;32m<ipython-input-15-12c9546d5424>\u001b[0m in \u001b[0;36mpreprocess_validation_examples\u001b[0;34m(examples)\u001b[0m\n\u001b[1;32m      1\u001b[0m \u001b[0;32mdef\u001b[0m \u001b[0mpreprocess_validation_examples\u001b[0m\u001b[0;34m(\u001b[0m\u001b[0mexamples\u001b[0m\u001b[0;34m)\u001b[0m\u001b[0;34m:\u001b[0m\u001b[0;34m\u001b[0m\u001b[0;34m\u001b[0m\u001b[0m\n\u001b[1;32m      2\u001b[0m     \u001b[0mquestions\u001b[0m \u001b[0;34m=\u001b[0m \u001b[0;34m[\u001b[0m\u001b[0mq\u001b[0m\u001b[0;34m.\u001b[0m\u001b[0mstrip\u001b[0m\u001b[0;34m(\u001b[0m\u001b[0;34m)\u001b[0m \u001b[0;32mfor\u001b[0m \u001b[0mq\u001b[0m \u001b[0;32min\u001b[0m \u001b[0mexamples\u001b[0m\u001b[0;34m[\u001b[0m\u001b[0;34m\"question\"\u001b[0m\u001b[0;34m]\u001b[0m\u001b[0;34m]\u001b[0m\u001b[0;34m\u001b[0m\u001b[0;34m\u001b[0m\u001b[0m\n\u001b[0;32m----> 3\u001b[0;31m     inputs = tokenizer(\n\u001b[0m\u001b[1;32m      4\u001b[0m         \u001b[0mquestions\u001b[0m\u001b[0;34m,\u001b[0m\u001b[0;34m\u001b[0m\u001b[0;34m\u001b[0m\u001b[0m\n\u001b[1;32m      5\u001b[0m         \u001b[0mexamples\u001b[0m\u001b[0;34m[\u001b[0m\u001b[0;34m\"context\"\u001b[0m\u001b[0;34m]\u001b[0m\u001b[0;34m,\u001b[0m\u001b[0;34m\u001b[0m\u001b[0;34m\u001b[0m\u001b[0m\n",
            "\u001b[0;31mNameError\u001b[0m: name 'tokenizer' is not defined"
          ]
        }
      ],
      "source": [
        "if merge:\n",
        "  validation_dataset = merged_validation_dataset.map(\n",
        "      preprocess_validation_examples,\n",
        "      batched = True,\n",
        "      remove_columns = merged_validation_dataset.column_names,\n",
        "  )\n",
        "else:\n",
        "  validation_dataset = qa_dataset[\"validation\"].map(    \n",
        "      preprocess_validation_examples,\n",
        "      batched = True,\n",
        "      remove_columns = qa_dataset[\"validation\"].column_names,\n",
        "      )"
      ]
    },
    {
      "cell_type": "code",
      "execution_count": null,
      "metadata": {
        "id": "NnpOjXSf3xsK",
        "colab": {
          "base_uri": "https://localhost:8080/",
          "height": 81,
          "referenced_widgets": [
            "c0b7f4f660c14d61acd190508285f65c",
            "652748cab1dc4fdfb723ef62eef20061",
            "c21198d3359b4c0481cf59e07d0f26c2",
            "308bfc07b04243709ad575cd3b99c85c",
            "5d42e9050dca49c7972d03292b533317",
            "121a593e328545f796c5f7995529c9ff",
            "4ead00cb3a1b4a99a250749ea5c8e3b0",
            "b7172dca94d7446bb34d0ea7aa73c421",
            "2ecf150aaadd45ec9dec2fd7cfb877c0",
            "2c084dca0cea4da18cb1443a2228689d",
            "5b4d9aadad8e462aaa3ecea42e5670f2",
            "a3b0a398109b42f8bc47b2ee6c2b80c4",
            "a158b2a304c740b081cd6bdf086ed253",
            "e6e2e64758024fbc835570acc343d571",
            "91c4d4abd7dd456ba7050f8d7fcd9a5f",
            "b59717b2cbfb493ca3ae9150fac1bced",
            "323d20dacd314993860af87dc73f3ec4",
            "e4ccd898dffb4294b33236f243811d1a",
            "99642acefa3f4a92b7baa2cd1c0e895f",
            "b27d6bd0ba9a4d59ba5a7461a7d23f42",
            "637d6ed4fc3c43eea7ba45fbd3c6ac44",
            "80976cdc7d074178b96f1a7fd7a90d7b"
          ]
        },
        "outputId": "17bb576c-a254-44ef-dfb4-7d7c12117955"
      },
      "outputs": [
        {
          "output_type": "display_data",
          "data": {
            "text/plain": [
              "Downloading builder script:   0%|          | 0.00/4.53k [00:00<?, ?B/s]"
            ],
            "application/vnd.jupyter.widget-view+json": {
              "version_major": 2,
              "version_minor": 0,
              "model_id": "c0b7f4f660c14d61acd190508285f65c"
            }
          },
          "metadata": {}
        },
        {
          "output_type": "display_data",
          "data": {
            "text/plain": [
              "Downloading extra modules:   0%|          | 0.00/3.32k [00:00<?, ?B/s]"
            ],
            "application/vnd.jupyter.widget-view+json": {
              "version_major": 2,
              "version_minor": 0,
              "model_id": "a3b0a398109b42f8bc47b2ee6c2b80c4"
            }
          },
          "metadata": {}
        }
      ],
      "source": [
        "metric = evaluate.load(\"squad\")\n",
        "\n",
        "n_best = 20\n",
        "max_answer_length = 200\n",
        "\n",
        "def compute_metrics(start_logits, end_logits, features, examples):\n",
        "    example_to_features = collections.defaultdict(list)\n",
        "    for idx, feature in enumerate(features):\n",
        "        example_to_features[feature[\"example_id\"]].append(idx)\n",
        "\n",
        "    predicted_answers = []\n",
        "    for example in tqdm(examples):\n",
        "        example_id = example[\"id\"]\n",
        "        context = example[\"context\"]\n",
        "        answers = []\n",
        "\n",
        "        # Loop through all features associated with that example\n",
        "        for feature_index in example_to_features[example_id]:\n",
        "            start_logit = start_logits[feature_index]\n",
        "            end_logit = end_logits[feature_index]\n",
        "            offsets = features[feature_index][\"offset_mapping\"]\n",
        "\n",
        "            start_indexes = np.argsort(start_logit)[-1 : -n_best - 1 : -1].tolist()\n",
        "            end_indexes = np.argsort(end_logit)[-1 : -n_best - 1 : -1].tolist()\n",
        "            for start_index in start_indexes:\n",
        "                for end_index in end_indexes:\n",
        "                    # Skip answers that are not fully in the context\n",
        "                    if offsets[start_index] is None or offsets[end_index] is None:\n",
        "                        continue\n",
        "                    # Skip answers with a length that is either < 0 or > max_answer_length\n",
        "                    if (\n",
        "                        end_index < start_index\n",
        "                        or end_index - start_index + 1 > max_answer_length\n",
        "                    ):\n",
        "                        continue\n",
        "\n",
        "                    answer = {\n",
        "                        \"text\": context[offsets[start_index][0] : offsets[end_index][1]],\n",
        "                        \"logit_score\": start_logit[start_index] + end_logit[end_index],\n",
        "                    }\n",
        "                    answers.append(answer)\n",
        "\n",
        "        # Select the answer with the best score\n",
        "        if len(answers) > 0:\n",
        "            best_answer = max(answers, key=lambda x: x[\"logit_score\"])\n",
        "            predicted_answers.append(\n",
        "                {\"id\": example_id, \"prediction_text\": best_answer[\"text\"]}\n",
        "            )\n",
        "        else:\n",
        "            predicted_answers.append({\"id\": example_id, \"prediction_text\": \"\"})\n",
        "\n",
        "    theoretical_answers = [{\"id\": ex[\"id\"], \"answers\": ex[\"answers\"]} for ex in examples]\n",
        "    for x in range(len(predicted_answers)):\n",
        "      predicted_answers[x]['id'] = str(predicted_answers[x]['id'])\n",
        "\n",
        "    for y in range(len(theoretical_answers)):\n",
        "      theoretical_answers[y]['id'] = str(theoretical_answers[y]['id'])\n",
        "    return metric.compute(predictions=predicted_answers, references=theoretical_answers)"
      ]
    },
    {
      "cell_type": "code",
      "source": [
        "model_checkpoint"
      ],
      "metadata": {
        "colab": {
          "base_uri": "https://localhost:8080/",
          "height": 36
        },
        "id": "jNoOJDwMcy8h",
        "outputId": "8768c9e0-3dc8-46a4-a386-39e8ff23e09f"
      },
      "execution_count": null,
      "outputs": [
        {
          "output_type": "execute_result",
          "data": {
            "text/plain": [
              "'allenai/scibert_scivocab_uncased'"
            ],
            "application/vnd.google.colaboratory.intrinsic+json": {
              "type": "string"
            }
          },
          "metadata": {},
          "execution_count": 25
        }
      ]
    },
    {
      "cell_type": "code",
      "execution_count": null,
      "metadata": {
        "id": "bJi5Gg0eGB-l",
        "colab": {
          "base_uri": "https://localhost:8080/",
          "height": 161,
          "referenced_widgets": [
            "87acd907583d42a9acc79f8a0fcc4da8",
            "ed909bd41f79444f8595a2b63ba2b08f",
            "1b3de314cb9b469cb49b4ef02e91934a",
            "bb00f17a0f874376b11549fdfe55b114",
            "341373166f514ce9996a4fe45245fe43",
            "80000c3390304f539dc00d20c24dd728",
            "5ab51b5ef4624409b5b7b1559dd6f05a",
            "9a63571fb54e43109e46f8aea7cd567f",
            "d3849242dcd14415a5f4c0951a526223",
            "ea75223255474cda8bac8c3783aa7589",
            "e19e8c287fb74ab6a9662cd37eb44a1e"
          ]
        },
        "outputId": "915db89b-8500-404c-ef18-048469a826ea"
      },
      "outputs": [
        {
          "output_type": "display_data",
          "data": {
            "text/plain": [
              "Downloading:   0%|          | 0.00/442M [00:00<?, ?B/s]"
            ],
            "application/vnd.jupyter.widget-view+json": {
              "version_major": 2,
              "version_minor": 0,
              "model_id": "87acd907583d42a9acc79f8a0fcc4da8"
            }
          },
          "metadata": {}
        },
        {
          "output_type": "stream",
          "name": "stderr",
          "text": [
            "Some weights of the model checkpoint at allenai/scibert_scivocab_uncased were not used when initializing BertForQuestionAnswering: ['cls.predictions.decoder.weight', 'cls.predictions.transform.LayerNorm.bias', 'cls.predictions.transform.dense.bias', 'cls.seq_relationship.bias', 'cls.predictions.decoder.bias', 'cls.predictions.transform.LayerNorm.weight', 'cls.seq_relationship.weight', 'cls.predictions.transform.dense.weight', 'cls.predictions.bias']\n",
            "- This IS expected if you are initializing BertForQuestionAnswering from the checkpoint of a model trained on another task or with another architecture (e.g. initializing a BertForSequenceClassification model from a BertForPreTraining model).\n",
            "- This IS NOT expected if you are initializing BertForQuestionAnswering from the checkpoint of a model that you expect to be exactly identical (initializing a BertForSequenceClassification model from a BertForSequenceClassification model).\n",
            "Some weights of BertForQuestionAnswering were not initialized from the model checkpoint at allenai/scibert_scivocab_uncased and are newly initialized: ['qa_outputs.weight', 'qa_outputs.bias']\n",
            "You should probably TRAIN this model on a down-stream task to be able to use it for predictions and inference.\n"
          ]
        }
      ],
      "source": [
        "#model = AutoModelForQuestionAnswering.from_pretrained(\"roberta-base\")\n",
        "model = AutoModelForQuestionAnswering.from_pretrained(model_checkpoint)"
      ]
    },
    {
      "cell_type": "markdown",
      "source": [
        "## Set Training Arguments"
      ],
      "metadata": {
        "id": "c3NtX_5IYO9u"
      }
    },
    {
      "cell_type": "code",
      "execution_count": null,
      "metadata": {
        "id": "od82rXxK4bGh"
      },
      "outputs": [],
      "source": [
        "args = TrainingArguments(\n",
        "    model_checkpoint,\n",
        "    evaluation_strategy=\"no\",\n",
        "    save_strategy=\"epoch\",\n",
        "    learning_rate=2e-5,\n",
        "    num_train_epochs=3,\n",
        "    weight_decay=0.01\n",
        ")"
      ]
    },
    {
      "cell_type": "code",
      "execution_count": null,
      "metadata": {
        "id": "Wck6mY4X4qkB",
        "colab": {
          "base_uri": "https://localhost:8080/",
          "height": 298
        },
        "outputId": "d4c42db8-f547-4588-8fbe-1adb7cc8b40c"
      },
      "outputs": [
        {
          "output_type": "stream",
          "name": "stderr",
          "text": [
            "/usr/local/lib/python3.7/dist-packages/transformers/optimization.py:310: FutureWarning: This implementation of AdamW is deprecated and will be removed in a future version. Use the PyTorch implementation torch.optim.AdamW instead, or set `no_deprecation_warning=True` to disable this warning\n",
            "  FutureWarning,\n",
            "***** Running training *****\n",
            "  Num examples = 39666\n",
            "  Num Epochs = 3\n",
            "  Instantaneous batch size per device = 8\n",
            "  Total train batch size (w. parallel, distributed & accumulation) = 8\n",
            "  Gradient Accumulation steps = 1\n",
            "  Total optimization steps = 14877\n",
            "  Number of trainable parameters = 109329410\n",
            "You're using a BertTokenizerFast tokenizer. Please note that with a fast tokenizer, using the `__call__` method is faster than using a method to encode the text followed by a call to the `pad` method to get a padded encoding.\n"
          ]
        },
        {
          "output_type": "display_data",
          "data": {
            "text/plain": [
              "<IPython.core.display.HTML object>"
            ],
            "text/html": [
              "\n",
              "    <div>\n",
              "      \n",
              "      <progress value='167' max='14877' style='width:300px; height:20px; vertical-align: middle;'></progress>\n",
              "      [  167/14877 1:23:55 < 124:42:03, 0.03 it/s, Epoch 0.03/3]\n",
              "    </div>\n",
              "    <table border=\"1\" class=\"dataframe\">\n",
              "  <thead>\n",
              " <tr style=\"text-align: left;\">\n",
              "      <th>Step</th>\n",
              "      <th>Training Loss</th>\n",
              "    </tr>\n",
              "  </thead>\n",
              "  <tbody>\n",
              "  </tbody>\n",
              "</table><p>"
            ]
          },
          "metadata": {}
        }
      ],
      "source": [
        "trainer = Trainer(\n",
        "    model=model,\n",
        "    args=args,\n",
        "    train_dataset=train_dataset,\n",
        "    eval_dataset=validation_dataset,\n",
        "    tokenizer=tokenizer\n",
        ")\n",
        "#print(trainer)\n",
        "trainer.train()"
      ]
    },
    {
      "cell_type": "code",
      "source": [
        "trainer.save_model('./content/saved_model')"
      ],
      "metadata": {
        "id": "yI5pvo3LIQFm"
      },
      "execution_count": null,
      "outputs": []
    },
    {
      "cell_type": "markdown",
      "source": [
        "# Results"
      ],
      "metadata": {
        "id": "bLhvDSO_dAOc"
      }
    },
    {
      "cell_type": "markdown",
      "source": [
        "## Bert Finetuned Squad results"
      ],
      "metadata": {
        "id": "OamrnxCr_x0_"
      }
    },
    {
      "cell_type": "code",
      "source": [
        "#using normal context\n",
        "predictions, _, _ = trainer.predict(validation_dataset)\n",
        "start_logits, end_logits = predictions\n",
        "compute_metrics(start_logits, end_logits, validation_dataset, qa_dataset[\"validation\"])"
      ],
      "metadata": {
        "id": "Csny5mJrCjes"
      },
      "execution_count": null,
      "outputs": []
    },
    {
      "cell_type": "markdown",
      "source": [
        "The following columns in the test set don't have a corresponding argument in `BertForQuestionAnswering.forward` and have been ignored: offset_mapping, example_id. If offset_mapping, example_id are not expected by `BertForQuestionAnswering.forward`,  you can safely ignore this message.\n",
        "\n",
        "\n",
        "***** Running Prediction *****\n",
        "\n",
        "  Num examples = 4154\n",
        "\n",
        "  Batch size = 8\n",
        "\n",
        "100%\n",
        "\n",
        "122/122 [00:07<00:00, 16.24it/s]\n",
        "\n",
        "{'exact_match': 16.39344262295082, 'f1': 41.12005635374793}"
      ],
      "metadata": {
        "id": "kkRA5S1GW_Ni"
      }
    },
    {
      "cell_type": "code",
      "execution_count": null,
      "metadata": {
        "id": "BjhqEAIa4_zK"
      },
      "outputs": [],
      "source": [
        "#using shortened context\n",
        "predictions, _, _ = trainer.predict(validation_dataset)\n",
        "start_logits, end_logits = predictions\n",
        "compute_metrics(start_logits, end_logits, validation_dataset, qa_dataset[\"validation\"])"
      ]
    },
    {
      "cell_type": "markdown",
      "source": [
        "## Roberta Finetuned Squad results"
      ],
      "metadata": {
        "id": "tGfRvztj_1g9"
      }
    },
    {
      "cell_type": "code",
      "source": [
        "#using normal context\n",
        "predictions, _, _ = trainer.predict(validation_dataset)\n",
        "start_logits, end_logits = predictions\n",
        "compute_metrics(start_logits, end_logits, validation_dataset, qa_dataset[\"validation\"])"
      ],
      "metadata": {
        "id": "0McdCpDN_wSi"
      },
      "execution_count": null,
      "outputs": []
    },
    {
      "cell_type": "code",
      "execution_count": null,
      "metadata": {
        "id": "7TZQg7ckCBY4"
      },
      "outputs": [],
      "source": [
        "#using shortened context\n",
        "predictions, _, _ = trainer.predict(validation_dataset)\n",
        "start_logits, end_logits = predictions\n",
        "compute_metrics(start_logits, end_logits, validation_dataset, qa_dataset[\"validation\"])"
      ]
    },
    {
      "cell_type": "markdown",
      "source": [
        "The following columns in the test set don't have a corresponding argument in `RobertaForQuestionAnswering.forward` and have been ignored: offset_mapping, example_id. If offset_mapping, example_id are not expected by `RobertaForQuestionAnswering.forward`,  you can safely ignore this message.\n",
        "\n",
        "***** Running Prediction *****\n",
        "\n",
        "  Num examples = 3923\n",
        "\n",
        "  Batch size = 8\n",
        "\n",
        "100%\n",
        "\n",
        "122/122 [00:05<00:00, 19.96it/s]\n",
        "\n",
        "{'exact_match': 23.770491803278688, 'f1': 52.758817529968965}"
      ],
      "metadata": {
        "id": "S1wMXfTYQgPD"
      }
    },
    {
      "cell_type": "markdown",
      "source": [
        "## Scibert results"
      ],
      "metadata": {
        "id": "bZq87JJ_dHQ5"
      }
    },
    {
      "cell_type": "code",
      "source": [
        "#using normal context\n",
        "predictions, _, _ = trainer.predict(validation_dataset)\n",
        "start_logits, end_logits = predictions\n",
        "compute_metrics(start_logits, end_logits, validation_dataset, qa_dataset[\"validation\"])"
      ],
      "metadata": {
        "id": "4pM9BdGueU9l"
      },
      "execution_count": null,
      "outputs": []
    },
    {
      "cell_type": "code",
      "source": [
        "#using merged shortened context\n",
        "predictions, _, _ = trainer.predict(validation_dataset)\n",
        "start_logits, end_logits = predictions\n",
        "compute_metrics(start_logits, end_logits, validation_dataset, qa_dataset[\"validation\"])"
      ],
      "metadata": {
        "id": "m4gqU1E9_7BY"
      },
      "execution_count": null,
      "outputs": []
    },
    {
      "cell_type": "code",
      "source": [],
      "metadata": {
        "id": "_RC-9FEBdPVy"
      },
      "execution_count": null,
      "outputs": []
    }
  ],
  "metadata": {
    "colab": {
      "collapsed_sections": [],
      "provenance": []
    },
    "kernelspec": {
      "display_name": "Python 3",
      "name": "python3"
    },
    "language_info": {
      "name": "python"
    },
    "widgets": {
      "application/vnd.jupyter.widget-state+json": {
        "19b5e574fb86490fae00e33ee0ccd429": {
          "model_module": "@jupyter-widgets/controls",
          "model_name": "HBoxModel",
          "model_module_version": "1.5.0",
          "state": {
            "_dom_classes": [],
            "_model_module": "@jupyter-widgets/controls",
            "_model_module_version": "1.5.0",
            "_model_name": "HBoxModel",
            "_view_count": null,
            "_view_module": "@jupyter-widgets/controls",
            "_view_module_version": "1.5.0",
            "_view_name": "HBoxView",
            "box_style": "",
            "children": [
              "IPY_MODEL_5de398b671874c6295368e07c90d5e63",
              "IPY_MODEL_a4499bae127d42da97383b62534f34db",
              "IPY_MODEL_f8fb6d54cff745239207f7b00bb8b8c9"
            ],
            "layout": "IPY_MODEL_935e7abd77c24a15b3d6cb1032551d40"
          }
        },
        "5de398b671874c6295368e07c90d5e63": {
          "model_module": "@jupyter-widgets/controls",
          "model_name": "HTMLModel",
          "model_module_version": "1.5.0",
          "state": {
            "_dom_classes": [],
            "_model_module": "@jupyter-widgets/controls",
            "_model_module_version": "1.5.0",
            "_model_name": "HTMLModel",
            "_view_count": null,
            "_view_module": "@jupyter-widgets/controls",
            "_view_module_version": "1.5.0",
            "_view_name": "HTMLView",
            "description": "",
            "description_tooltip": null,
            "layout": "IPY_MODEL_108c3d46d57b45f990d515d0da970a7f",
            "placeholder": "​",
            "style": "IPY_MODEL_baf4ca5161ac464c83fc3c33950e81f1",
            "value": "  0%"
          }
        },
        "a4499bae127d42da97383b62534f34db": {
          "model_module": "@jupyter-widgets/controls",
          "model_name": "FloatProgressModel",
          "model_module_version": "1.5.0",
          "state": {
            "_dom_classes": [],
            "_model_module": "@jupyter-widgets/controls",
            "_model_module_version": "1.5.0",
            "_model_name": "FloatProgressModel",
            "_view_count": null,
            "_view_module": "@jupyter-widgets/controls",
            "_view_module_version": "1.5.0",
            "_view_name": "ProgressView",
            "bar_style": "danger",
            "description": "",
            "description_tooltip": null,
            "layout": "IPY_MODEL_350bd9c5c2134922b759eafc6d80f461",
            "max": 1,
            "min": 0,
            "orientation": "horizontal",
            "style": "IPY_MODEL_54d978c845fa4f389aae30f0f152e483",
            "value": 0
          }
        },
        "f8fb6d54cff745239207f7b00bb8b8c9": {
          "model_module": "@jupyter-widgets/controls",
          "model_name": "HTMLModel",
          "model_module_version": "1.5.0",
          "state": {
            "_dom_classes": [],
            "_model_module": "@jupyter-widgets/controls",
            "_model_module_version": "1.5.0",
            "_model_name": "HTMLModel",
            "_view_count": null,
            "_view_module": "@jupyter-widgets/controls",
            "_view_module_version": "1.5.0",
            "_view_name": "HTMLView",
            "description": "",
            "description_tooltip": null,
            "layout": "IPY_MODEL_07318d190b2647829add641929fa76a6",
            "placeholder": "​",
            "style": "IPY_MODEL_bc83db755cfa4036acfe416aee7850d2",
            "value": " 0/1 [00:00&lt;?, ?ba/s]"
          }
        },
        "935e7abd77c24a15b3d6cb1032551d40": {
          "model_module": "@jupyter-widgets/base",
          "model_name": "LayoutModel",
          "model_module_version": "1.2.0",
          "state": {
            "_model_module": "@jupyter-widgets/base",
            "_model_module_version": "1.2.0",
            "_model_name": "LayoutModel",
            "_view_count": null,
            "_view_module": "@jupyter-widgets/base",
            "_view_module_version": "1.2.0",
            "_view_name": "LayoutView",
            "align_content": null,
            "align_items": null,
            "align_self": null,
            "border": null,
            "bottom": null,
            "display": null,
            "flex": null,
            "flex_flow": null,
            "grid_area": null,
            "grid_auto_columns": null,
            "grid_auto_flow": null,
            "grid_auto_rows": null,
            "grid_column": null,
            "grid_gap": null,
            "grid_row": null,
            "grid_template_areas": null,
            "grid_template_columns": null,
            "grid_template_rows": null,
            "height": null,
            "justify_content": null,
            "justify_items": null,
            "left": null,
            "margin": null,
            "max_height": null,
            "max_width": null,
            "min_height": null,
            "min_width": null,
            "object_fit": null,
            "object_position": null,
            "order": null,
            "overflow": null,
            "overflow_x": null,
            "overflow_y": null,
            "padding": null,
            "right": null,
            "top": null,
            "visibility": null,
            "width": null
          }
        },
        "108c3d46d57b45f990d515d0da970a7f": {
          "model_module": "@jupyter-widgets/base",
          "model_name": "LayoutModel",
          "model_module_version": "1.2.0",
          "state": {
            "_model_module": "@jupyter-widgets/base",
            "_model_module_version": "1.2.0",
            "_model_name": "LayoutModel",
            "_view_count": null,
            "_view_module": "@jupyter-widgets/base",
            "_view_module_version": "1.2.0",
            "_view_name": "LayoutView",
            "align_content": null,
            "align_items": null,
            "align_self": null,
            "border": null,
            "bottom": null,
            "display": null,
            "flex": null,
            "flex_flow": null,
            "grid_area": null,
            "grid_auto_columns": null,
            "grid_auto_flow": null,
            "grid_auto_rows": null,
            "grid_column": null,
            "grid_gap": null,
            "grid_row": null,
            "grid_template_areas": null,
            "grid_template_columns": null,
            "grid_template_rows": null,
            "height": null,
            "justify_content": null,
            "justify_items": null,
            "left": null,
            "margin": null,
            "max_height": null,
            "max_width": null,
            "min_height": null,
            "min_width": null,
            "object_fit": null,
            "object_position": null,
            "order": null,
            "overflow": null,
            "overflow_x": null,
            "overflow_y": null,
            "padding": null,
            "right": null,
            "top": null,
            "visibility": null,
            "width": null
          }
        },
        "baf4ca5161ac464c83fc3c33950e81f1": {
          "model_module": "@jupyter-widgets/controls",
          "model_name": "DescriptionStyleModel",
          "model_module_version": "1.5.0",
          "state": {
            "_model_module": "@jupyter-widgets/controls",
            "_model_module_version": "1.5.0",
            "_model_name": "DescriptionStyleModel",
            "_view_count": null,
            "_view_module": "@jupyter-widgets/base",
            "_view_module_version": "1.2.0",
            "_view_name": "StyleView",
            "description_width": ""
          }
        },
        "350bd9c5c2134922b759eafc6d80f461": {
          "model_module": "@jupyter-widgets/base",
          "model_name": "LayoutModel",
          "model_module_version": "1.2.0",
          "state": {
            "_model_module": "@jupyter-widgets/base",
            "_model_module_version": "1.2.0",
            "_model_name": "LayoutModel",
            "_view_count": null,
            "_view_module": "@jupyter-widgets/base",
            "_view_module_version": "1.2.0",
            "_view_name": "LayoutView",
            "align_content": null,
            "align_items": null,
            "align_self": null,
            "border": null,
            "bottom": null,
            "display": null,
            "flex": null,
            "flex_flow": null,
            "grid_area": null,
            "grid_auto_columns": null,
            "grid_auto_flow": null,
            "grid_auto_rows": null,
            "grid_column": null,
            "grid_gap": null,
            "grid_row": null,
            "grid_template_areas": null,
            "grid_template_columns": null,
            "grid_template_rows": null,
            "height": null,
            "justify_content": null,
            "justify_items": null,
            "left": null,
            "margin": null,
            "max_height": null,
            "max_width": null,
            "min_height": null,
            "min_width": null,
            "object_fit": null,
            "object_position": null,
            "order": null,
            "overflow": null,
            "overflow_x": null,
            "overflow_y": null,
            "padding": null,
            "right": null,
            "top": null,
            "visibility": null,
            "width": null
          }
        },
        "54d978c845fa4f389aae30f0f152e483": {
          "model_module": "@jupyter-widgets/controls",
          "model_name": "ProgressStyleModel",
          "model_module_version": "1.5.0",
          "state": {
            "_model_module": "@jupyter-widgets/controls",
            "_model_module_version": "1.5.0",
            "_model_name": "ProgressStyleModel",
            "_view_count": null,
            "_view_module": "@jupyter-widgets/base",
            "_view_module_version": "1.2.0",
            "_view_name": "StyleView",
            "bar_color": null,
            "description_width": ""
          }
        },
        "07318d190b2647829add641929fa76a6": {
          "model_module": "@jupyter-widgets/base",
          "model_name": "LayoutModel",
          "model_module_version": "1.2.0",
          "state": {
            "_model_module": "@jupyter-widgets/base",
            "_model_module_version": "1.2.0",
            "_model_name": "LayoutModel",
            "_view_count": null,
            "_view_module": "@jupyter-widgets/base",
            "_view_module_version": "1.2.0",
            "_view_name": "LayoutView",
            "align_content": null,
            "align_items": null,
            "align_self": null,
            "border": null,
            "bottom": null,
            "display": null,
            "flex": null,
            "flex_flow": null,
            "grid_area": null,
            "grid_auto_columns": null,
            "grid_auto_flow": null,
            "grid_auto_rows": null,
            "grid_column": null,
            "grid_gap": null,
            "grid_row": null,
            "grid_template_areas": null,
            "grid_template_columns": null,
            "grid_template_rows": null,
            "height": null,
            "justify_content": null,
            "justify_items": null,
            "left": null,
            "margin": null,
            "max_height": null,
            "max_width": null,
            "min_height": null,
            "min_width": null,
            "object_fit": null,
            "object_position": null,
            "order": null,
            "overflow": null,
            "overflow_x": null,
            "overflow_y": null,
            "padding": null,
            "right": null,
            "top": null,
            "visibility": null,
            "width": null
          }
        },
        "bc83db755cfa4036acfe416aee7850d2": {
          "model_module": "@jupyter-widgets/controls",
          "model_name": "DescriptionStyleModel",
          "model_module_version": "1.5.0",
          "state": {
            "_model_module": "@jupyter-widgets/controls",
            "_model_module_version": "1.5.0",
            "_model_name": "DescriptionStyleModel",
            "_view_count": null,
            "_view_module": "@jupyter-widgets/base",
            "_view_module_version": "1.2.0",
            "_view_name": "StyleView",
            "description_width": ""
          }
        },
        "c0b7f4f660c14d61acd190508285f65c": {
          "model_module": "@jupyter-widgets/controls",
          "model_name": "HBoxModel",
          "model_module_version": "1.5.0",
          "state": {
            "_dom_classes": [],
            "_model_module": "@jupyter-widgets/controls",
            "_model_module_version": "1.5.0",
            "_model_name": "HBoxModel",
            "_view_count": null,
            "_view_module": "@jupyter-widgets/controls",
            "_view_module_version": "1.5.0",
            "_view_name": "HBoxView",
            "box_style": "",
            "children": [
              "IPY_MODEL_652748cab1dc4fdfb723ef62eef20061",
              "IPY_MODEL_c21198d3359b4c0481cf59e07d0f26c2",
              "IPY_MODEL_308bfc07b04243709ad575cd3b99c85c"
            ],
            "layout": "IPY_MODEL_5d42e9050dca49c7972d03292b533317"
          }
        },
        "652748cab1dc4fdfb723ef62eef20061": {
          "model_module": "@jupyter-widgets/controls",
          "model_name": "HTMLModel",
          "model_module_version": "1.5.0",
          "state": {
            "_dom_classes": [],
            "_model_module": "@jupyter-widgets/controls",
            "_model_module_version": "1.5.0",
            "_model_name": "HTMLModel",
            "_view_count": null,
            "_view_module": "@jupyter-widgets/controls",
            "_view_module_version": "1.5.0",
            "_view_name": "HTMLView",
            "description": "",
            "description_tooltip": null,
            "layout": "IPY_MODEL_121a593e328545f796c5f7995529c9ff",
            "placeholder": "​",
            "style": "IPY_MODEL_4ead00cb3a1b4a99a250749ea5c8e3b0",
            "value": "Downloading builder script: 100%"
          }
        },
        "c21198d3359b4c0481cf59e07d0f26c2": {
          "model_module": "@jupyter-widgets/controls",
          "model_name": "FloatProgressModel",
          "model_module_version": "1.5.0",
          "state": {
            "_dom_classes": [],
            "_model_module": "@jupyter-widgets/controls",
            "_model_module_version": "1.5.0",
            "_model_name": "FloatProgressModel",
            "_view_count": null,
            "_view_module": "@jupyter-widgets/controls",
            "_view_module_version": "1.5.0",
            "_view_name": "ProgressView",
            "bar_style": "success",
            "description": "",
            "description_tooltip": null,
            "layout": "IPY_MODEL_b7172dca94d7446bb34d0ea7aa73c421",
            "max": 4525,
            "min": 0,
            "orientation": "horizontal",
            "style": "IPY_MODEL_2ecf150aaadd45ec9dec2fd7cfb877c0",
            "value": 4525
          }
        },
        "308bfc07b04243709ad575cd3b99c85c": {
          "model_module": "@jupyter-widgets/controls",
          "model_name": "HTMLModel",
          "model_module_version": "1.5.0",
          "state": {
            "_dom_classes": [],
            "_model_module": "@jupyter-widgets/controls",
            "_model_module_version": "1.5.0",
            "_model_name": "HTMLModel",
            "_view_count": null,
            "_view_module": "@jupyter-widgets/controls",
            "_view_module_version": "1.5.0",
            "_view_name": "HTMLView",
            "description": "",
            "description_tooltip": null,
            "layout": "IPY_MODEL_2c084dca0cea4da18cb1443a2228689d",
            "placeholder": "​",
            "style": "IPY_MODEL_5b4d9aadad8e462aaa3ecea42e5670f2",
            "value": " 4.53k/4.53k [00:00&lt;00:00, 107kB/s]"
          }
        },
        "5d42e9050dca49c7972d03292b533317": {
          "model_module": "@jupyter-widgets/base",
          "model_name": "LayoutModel",
          "model_module_version": "1.2.0",
          "state": {
            "_model_module": "@jupyter-widgets/base",
            "_model_module_version": "1.2.0",
            "_model_name": "LayoutModel",
            "_view_count": null,
            "_view_module": "@jupyter-widgets/base",
            "_view_module_version": "1.2.0",
            "_view_name": "LayoutView",
            "align_content": null,
            "align_items": null,
            "align_self": null,
            "border": null,
            "bottom": null,
            "display": null,
            "flex": null,
            "flex_flow": null,
            "grid_area": null,
            "grid_auto_columns": null,
            "grid_auto_flow": null,
            "grid_auto_rows": null,
            "grid_column": null,
            "grid_gap": null,
            "grid_row": null,
            "grid_template_areas": null,
            "grid_template_columns": null,
            "grid_template_rows": null,
            "height": null,
            "justify_content": null,
            "justify_items": null,
            "left": null,
            "margin": null,
            "max_height": null,
            "max_width": null,
            "min_height": null,
            "min_width": null,
            "object_fit": null,
            "object_position": null,
            "order": null,
            "overflow": null,
            "overflow_x": null,
            "overflow_y": null,
            "padding": null,
            "right": null,
            "top": null,
            "visibility": null,
            "width": null
          }
        },
        "121a593e328545f796c5f7995529c9ff": {
          "model_module": "@jupyter-widgets/base",
          "model_name": "LayoutModel",
          "model_module_version": "1.2.0",
          "state": {
            "_model_module": "@jupyter-widgets/base",
            "_model_module_version": "1.2.0",
            "_model_name": "LayoutModel",
            "_view_count": null,
            "_view_module": "@jupyter-widgets/base",
            "_view_module_version": "1.2.0",
            "_view_name": "LayoutView",
            "align_content": null,
            "align_items": null,
            "align_self": null,
            "border": null,
            "bottom": null,
            "display": null,
            "flex": null,
            "flex_flow": null,
            "grid_area": null,
            "grid_auto_columns": null,
            "grid_auto_flow": null,
            "grid_auto_rows": null,
            "grid_column": null,
            "grid_gap": null,
            "grid_row": null,
            "grid_template_areas": null,
            "grid_template_columns": null,
            "grid_template_rows": null,
            "height": null,
            "justify_content": null,
            "justify_items": null,
            "left": null,
            "margin": null,
            "max_height": null,
            "max_width": null,
            "min_height": null,
            "min_width": null,
            "object_fit": null,
            "object_position": null,
            "order": null,
            "overflow": null,
            "overflow_x": null,
            "overflow_y": null,
            "padding": null,
            "right": null,
            "top": null,
            "visibility": null,
            "width": null
          }
        },
        "4ead00cb3a1b4a99a250749ea5c8e3b0": {
          "model_module": "@jupyter-widgets/controls",
          "model_name": "DescriptionStyleModel",
          "model_module_version": "1.5.0",
          "state": {
            "_model_module": "@jupyter-widgets/controls",
            "_model_module_version": "1.5.0",
            "_model_name": "DescriptionStyleModel",
            "_view_count": null,
            "_view_module": "@jupyter-widgets/base",
            "_view_module_version": "1.2.0",
            "_view_name": "StyleView",
            "description_width": ""
          }
        },
        "b7172dca94d7446bb34d0ea7aa73c421": {
          "model_module": "@jupyter-widgets/base",
          "model_name": "LayoutModel",
          "model_module_version": "1.2.0",
          "state": {
            "_model_module": "@jupyter-widgets/base",
            "_model_module_version": "1.2.0",
            "_model_name": "LayoutModel",
            "_view_count": null,
            "_view_module": "@jupyter-widgets/base",
            "_view_module_version": "1.2.0",
            "_view_name": "LayoutView",
            "align_content": null,
            "align_items": null,
            "align_self": null,
            "border": null,
            "bottom": null,
            "display": null,
            "flex": null,
            "flex_flow": null,
            "grid_area": null,
            "grid_auto_columns": null,
            "grid_auto_flow": null,
            "grid_auto_rows": null,
            "grid_column": null,
            "grid_gap": null,
            "grid_row": null,
            "grid_template_areas": null,
            "grid_template_columns": null,
            "grid_template_rows": null,
            "height": null,
            "justify_content": null,
            "justify_items": null,
            "left": null,
            "margin": null,
            "max_height": null,
            "max_width": null,
            "min_height": null,
            "min_width": null,
            "object_fit": null,
            "object_position": null,
            "order": null,
            "overflow": null,
            "overflow_x": null,
            "overflow_y": null,
            "padding": null,
            "right": null,
            "top": null,
            "visibility": null,
            "width": null
          }
        },
        "2ecf150aaadd45ec9dec2fd7cfb877c0": {
          "model_module": "@jupyter-widgets/controls",
          "model_name": "ProgressStyleModel",
          "model_module_version": "1.5.0",
          "state": {
            "_model_module": "@jupyter-widgets/controls",
            "_model_module_version": "1.5.0",
            "_model_name": "ProgressStyleModel",
            "_view_count": null,
            "_view_module": "@jupyter-widgets/base",
            "_view_module_version": "1.2.0",
            "_view_name": "StyleView",
            "bar_color": null,
            "description_width": ""
          }
        },
        "2c084dca0cea4da18cb1443a2228689d": {
          "model_module": "@jupyter-widgets/base",
          "model_name": "LayoutModel",
          "model_module_version": "1.2.0",
          "state": {
            "_model_module": "@jupyter-widgets/base",
            "_model_module_version": "1.2.0",
            "_model_name": "LayoutModel",
            "_view_count": null,
            "_view_module": "@jupyter-widgets/base",
            "_view_module_version": "1.2.0",
            "_view_name": "LayoutView",
            "align_content": null,
            "align_items": null,
            "align_self": null,
            "border": null,
            "bottom": null,
            "display": null,
            "flex": null,
            "flex_flow": null,
            "grid_area": null,
            "grid_auto_columns": null,
            "grid_auto_flow": null,
            "grid_auto_rows": null,
            "grid_column": null,
            "grid_gap": null,
            "grid_row": null,
            "grid_template_areas": null,
            "grid_template_columns": null,
            "grid_template_rows": null,
            "height": null,
            "justify_content": null,
            "justify_items": null,
            "left": null,
            "margin": null,
            "max_height": null,
            "max_width": null,
            "min_height": null,
            "min_width": null,
            "object_fit": null,
            "object_position": null,
            "order": null,
            "overflow": null,
            "overflow_x": null,
            "overflow_y": null,
            "padding": null,
            "right": null,
            "top": null,
            "visibility": null,
            "width": null
          }
        },
        "5b4d9aadad8e462aaa3ecea42e5670f2": {
          "model_module": "@jupyter-widgets/controls",
          "model_name": "DescriptionStyleModel",
          "model_module_version": "1.5.0",
          "state": {
            "_model_module": "@jupyter-widgets/controls",
            "_model_module_version": "1.5.0",
            "_model_name": "DescriptionStyleModel",
            "_view_count": null,
            "_view_module": "@jupyter-widgets/base",
            "_view_module_version": "1.2.0",
            "_view_name": "StyleView",
            "description_width": ""
          }
        },
        "a3b0a398109b42f8bc47b2ee6c2b80c4": {
          "model_module": "@jupyter-widgets/controls",
          "model_name": "HBoxModel",
          "model_module_version": "1.5.0",
          "state": {
            "_dom_classes": [],
            "_model_module": "@jupyter-widgets/controls",
            "_model_module_version": "1.5.0",
            "_model_name": "HBoxModel",
            "_view_count": null,
            "_view_module": "@jupyter-widgets/controls",
            "_view_module_version": "1.5.0",
            "_view_name": "HBoxView",
            "box_style": "",
            "children": [
              "IPY_MODEL_a158b2a304c740b081cd6bdf086ed253",
              "IPY_MODEL_e6e2e64758024fbc835570acc343d571",
              "IPY_MODEL_91c4d4abd7dd456ba7050f8d7fcd9a5f"
            ],
            "layout": "IPY_MODEL_b59717b2cbfb493ca3ae9150fac1bced"
          }
        },
        "a158b2a304c740b081cd6bdf086ed253": {
          "model_module": "@jupyter-widgets/controls",
          "model_name": "HTMLModel",
          "model_module_version": "1.5.0",
          "state": {
            "_dom_classes": [],
            "_model_module": "@jupyter-widgets/controls",
            "_model_module_version": "1.5.0",
            "_model_name": "HTMLModel",
            "_view_count": null,
            "_view_module": "@jupyter-widgets/controls",
            "_view_module_version": "1.5.0",
            "_view_name": "HTMLView",
            "description": "",
            "description_tooltip": null,
            "layout": "IPY_MODEL_323d20dacd314993860af87dc73f3ec4",
            "placeholder": "​",
            "style": "IPY_MODEL_e4ccd898dffb4294b33236f243811d1a",
            "value": "Downloading extra modules: 100%"
          }
        },
        "e6e2e64758024fbc835570acc343d571": {
          "model_module": "@jupyter-widgets/controls",
          "model_name": "FloatProgressModel",
          "model_module_version": "1.5.0",
          "state": {
            "_dom_classes": [],
            "_model_module": "@jupyter-widgets/controls",
            "_model_module_version": "1.5.0",
            "_model_name": "FloatProgressModel",
            "_view_count": null,
            "_view_module": "@jupyter-widgets/controls",
            "_view_module_version": "1.5.0",
            "_view_name": "ProgressView",
            "bar_style": "success",
            "description": "",
            "description_tooltip": null,
            "layout": "IPY_MODEL_99642acefa3f4a92b7baa2cd1c0e895f",
            "max": 3317,
            "min": 0,
            "orientation": "horizontal",
            "style": "IPY_MODEL_b27d6bd0ba9a4d59ba5a7461a7d23f42",
            "value": 3317
          }
        },
        "91c4d4abd7dd456ba7050f8d7fcd9a5f": {
          "model_module": "@jupyter-widgets/controls",
          "model_name": "HTMLModel",
          "model_module_version": "1.5.0",
          "state": {
            "_dom_classes": [],
            "_model_module": "@jupyter-widgets/controls",
            "_model_module_version": "1.5.0",
            "_model_name": "HTMLModel",
            "_view_count": null,
            "_view_module": "@jupyter-widgets/controls",
            "_view_module_version": "1.5.0",
            "_view_name": "HTMLView",
            "description": "",
            "description_tooltip": null,
            "layout": "IPY_MODEL_637d6ed4fc3c43eea7ba45fbd3c6ac44",
            "placeholder": "​",
            "style": "IPY_MODEL_80976cdc7d074178b96f1a7fd7a90d7b",
            "value": " 3.32k/3.32k [00:00&lt;00:00, 86.3kB/s]"
          }
        },
        "b59717b2cbfb493ca3ae9150fac1bced": {
          "model_module": "@jupyter-widgets/base",
          "model_name": "LayoutModel",
          "model_module_version": "1.2.0",
          "state": {
            "_model_module": "@jupyter-widgets/base",
            "_model_module_version": "1.2.0",
            "_model_name": "LayoutModel",
            "_view_count": null,
            "_view_module": "@jupyter-widgets/base",
            "_view_module_version": "1.2.0",
            "_view_name": "LayoutView",
            "align_content": null,
            "align_items": null,
            "align_self": null,
            "border": null,
            "bottom": null,
            "display": null,
            "flex": null,
            "flex_flow": null,
            "grid_area": null,
            "grid_auto_columns": null,
            "grid_auto_flow": null,
            "grid_auto_rows": null,
            "grid_column": null,
            "grid_gap": null,
            "grid_row": null,
            "grid_template_areas": null,
            "grid_template_columns": null,
            "grid_template_rows": null,
            "height": null,
            "justify_content": null,
            "justify_items": null,
            "left": null,
            "margin": null,
            "max_height": null,
            "max_width": null,
            "min_height": null,
            "min_width": null,
            "object_fit": null,
            "object_position": null,
            "order": null,
            "overflow": null,
            "overflow_x": null,
            "overflow_y": null,
            "padding": null,
            "right": null,
            "top": null,
            "visibility": null,
            "width": null
          }
        },
        "323d20dacd314993860af87dc73f3ec4": {
          "model_module": "@jupyter-widgets/base",
          "model_name": "LayoutModel",
          "model_module_version": "1.2.0",
          "state": {
            "_model_module": "@jupyter-widgets/base",
            "_model_module_version": "1.2.0",
            "_model_name": "LayoutModel",
            "_view_count": null,
            "_view_module": "@jupyter-widgets/base",
            "_view_module_version": "1.2.0",
            "_view_name": "LayoutView",
            "align_content": null,
            "align_items": null,
            "align_self": null,
            "border": null,
            "bottom": null,
            "display": null,
            "flex": null,
            "flex_flow": null,
            "grid_area": null,
            "grid_auto_columns": null,
            "grid_auto_flow": null,
            "grid_auto_rows": null,
            "grid_column": null,
            "grid_gap": null,
            "grid_row": null,
            "grid_template_areas": null,
            "grid_template_columns": null,
            "grid_template_rows": null,
            "height": null,
            "justify_content": null,
            "justify_items": null,
            "left": null,
            "margin": null,
            "max_height": null,
            "max_width": null,
            "min_height": null,
            "min_width": null,
            "object_fit": null,
            "object_position": null,
            "order": null,
            "overflow": null,
            "overflow_x": null,
            "overflow_y": null,
            "padding": null,
            "right": null,
            "top": null,
            "visibility": null,
            "width": null
          }
        },
        "e4ccd898dffb4294b33236f243811d1a": {
          "model_module": "@jupyter-widgets/controls",
          "model_name": "DescriptionStyleModel",
          "model_module_version": "1.5.0",
          "state": {
            "_model_module": "@jupyter-widgets/controls",
            "_model_module_version": "1.5.0",
            "_model_name": "DescriptionStyleModel",
            "_view_count": null,
            "_view_module": "@jupyter-widgets/base",
            "_view_module_version": "1.2.0",
            "_view_name": "StyleView",
            "description_width": ""
          }
        },
        "99642acefa3f4a92b7baa2cd1c0e895f": {
          "model_module": "@jupyter-widgets/base",
          "model_name": "LayoutModel",
          "model_module_version": "1.2.0",
          "state": {
            "_model_module": "@jupyter-widgets/base",
            "_model_module_version": "1.2.0",
            "_model_name": "LayoutModel",
            "_view_count": null,
            "_view_module": "@jupyter-widgets/base",
            "_view_module_version": "1.2.0",
            "_view_name": "LayoutView",
            "align_content": null,
            "align_items": null,
            "align_self": null,
            "border": null,
            "bottom": null,
            "display": null,
            "flex": null,
            "flex_flow": null,
            "grid_area": null,
            "grid_auto_columns": null,
            "grid_auto_flow": null,
            "grid_auto_rows": null,
            "grid_column": null,
            "grid_gap": null,
            "grid_row": null,
            "grid_template_areas": null,
            "grid_template_columns": null,
            "grid_template_rows": null,
            "height": null,
            "justify_content": null,
            "justify_items": null,
            "left": null,
            "margin": null,
            "max_height": null,
            "max_width": null,
            "min_height": null,
            "min_width": null,
            "object_fit": null,
            "object_position": null,
            "order": null,
            "overflow": null,
            "overflow_x": null,
            "overflow_y": null,
            "padding": null,
            "right": null,
            "top": null,
            "visibility": null,
            "width": null
          }
        },
        "b27d6bd0ba9a4d59ba5a7461a7d23f42": {
          "model_module": "@jupyter-widgets/controls",
          "model_name": "ProgressStyleModel",
          "model_module_version": "1.5.0",
          "state": {
            "_model_module": "@jupyter-widgets/controls",
            "_model_module_version": "1.5.0",
            "_model_name": "ProgressStyleModel",
            "_view_count": null,
            "_view_module": "@jupyter-widgets/base",
            "_view_module_version": "1.2.0",
            "_view_name": "StyleView",
            "bar_color": null,
            "description_width": ""
          }
        },
        "637d6ed4fc3c43eea7ba45fbd3c6ac44": {
          "model_module": "@jupyter-widgets/base",
          "model_name": "LayoutModel",
          "model_module_version": "1.2.0",
          "state": {
            "_model_module": "@jupyter-widgets/base",
            "_model_module_version": "1.2.0",
            "_model_name": "LayoutModel",
            "_view_count": null,
            "_view_module": "@jupyter-widgets/base",
            "_view_module_version": "1.2.0",
            "_view_name": "LayoutView",
            "align_content": null,
            "align_items": null,
            "align_self": null,
            "border": null,
            "bottom": null,
            "display": null,
            "flex": null,
            "flex_flow": null,
            "grid_area": null,
            "grid_auto_columns": null,
            "grid_auto_flow": null,
            "grid_auto_rows": null,
            "grid_column": null,
            "grid_gap": null,
            "grid_row": null,
            "grid_template_areas": null,
            "grid_template_columns": null,
            "grid_template_rows": null,
            "height": null,
            "justify_content": null,
            "justify_items": null,
            "left": null,
            "margin": null,
            "max_height": null,
            "max_width": null,
            "min_height": null,
            "min_width": null,
            "object_fit": null,
            "object_position": null,
            "order": null,
            "overflow": null,
            "overflow_x": null,
            "overflow_y": null,
            "padding": null,
            "right": null,
            "top": null,
            "visibility": null,
            "width": null
          }
        },
        "80976cdc7d074178b96f1a7fd7a90d7b": {
          "model_module": "@jupyter-widgets/controls",
          "model_name": "DescriptionStyleModel",
          "model_module_version": "1.5.0",
          "state": {
            "_model_module": "@jupyter-widgets/controls",
            "_model_module_version": "1.5.0",
            "_model_name": "DescriptionStyleModel",
            "_view_count": null,
            "_view_module": "@jupyter-widgets/base",
            "_view_module_version": "1.2.0",
            "_view_name": "StyleView",
            "description_width": ""
          }
        },
        "87acd907583d42a9acc79f8a0fcc4da8": {
          "model_module": "@jupyter-widgets/controls",
          "model_name": "HBoxModel",
          "model_module_version": "1.5.0",
          "state": {
            "_dom_classes": [],
            "_model_module": "@jupyter-widgets/controls",
            "_model_module_version": "1.5.0",
            "_model_name": "HBoxModel",
            "_view_count": null,
            "_view_module": "@jupyter-widgets/controls",
            "_view_module_version": "1.5.0",
            "_view_name": "HBoxView",
            "box_style": "",
            "children": [
              "IPY_MODEL_ed909bd41f79444f8595a2b63ba2b08f",
              "IPY_MODEL_1b3de314cb9b469cb49b4ef02e91934a",
              "IPY_MODEL_bb00f17a0f874376b11549fdfe55b114"
            ],
            "layout": "IPY_MODEL_341373166f514ce9996a4fe45245fe43"
          }
        },
        "ed909bd41f79444f8595a2b63ba2b08f": {
          "model_module": "@jupyter-widgets/controls",
          "model_name": "HTMLModel",
          "model_module_version": "1.5.0",
          "state": {
            "_dom_classes": [],
            "_model_module": "@jupyter-widgets/controls",
            "_model_module_version": "1.5.0",
            "_model_name": "HTMLModel",
            "_view_count": null,
            "_view_module": "@jupyter-widgets/controls",
            "_view_module_version": "1.5.0",
            "_view_name": "HTMLView",
            "description": "",
            "description_tooltip": null,
            "layout": "IPY_MODEL_80000c3390304f539dc00d20c24dd728",
            "placeholder": "​",
            "style": "IPY_MODEL_5ab51b5ef4624409b5b7b1559dd6f05a",
            "value": "Downloading: 100%"
          }
        },
        "1b3de314cb9b469cb49b4ef02e91934a": {
          "model_module": "@jupyter-widgets/controls",
          "model_name": "FloatProgressModel",
          "model_module_version": "1.5.0",
          "state": {
            "_dom_classes": [],
            "_model_module": "@jupyter-widgets/controls",
            "_model_module_version": "1.5.0",
            "_model_name": "FloatProgressModel",
            "_view_count": null,
            "_view_module": "@jupyter-widgets/controls",
            "_view_module_version": "1.5.0",
            "_view_name": "ProgressView",
            "bar_style": "success",
            "description": "",
            "description_tooltip": null,
            "layout": "IPY_MODEL_9a63571fb54e43109e46f8aea7cd567f",
            "max": 442221694,
            "min": 0,
            "orientation": "horizontal",
            "style": "IPY_MODEL_d3849242dcd14415a5f4c0951a526223",
            "value": 442221694
          }
        },
        "bb00f17a0f874376b11549fdfe55b114": {
          "model_module": "@jupyter-widgets/controls",
          "model_name": "HTMLModel",
          "model_module_version": "1.5.0",
          "state": {
            "_dom_classes": [],
            "_model_module": "@jupyter-widgets/controls",
            "_model_module_version": "1.5.0",
            "_model_name": "HTMLModel",
            "_view_count": null,
            "_view_module": "@jupyter-widgets/controls",
            "_view_module_version": "1.5.0",
            "_view_name": "HTMLView",
            "description": "",
            "description_tooltip": null,
            "layout": "IPY_MODEL_ea75223255474cda8bac8c3783aa7589",
            "placeholder": "​",
            "style": "IPY_MODEL_e19e8c287fb74ab6a9662cd37eb44a1e",
            "value": " 442M/442M [00:09&lt;00:00, 48.0MB/s]"
          }
        },
        "341373166f514ce9996a4fe45245fe43": {
          "model_module": "@jupyter-widgets/base",
          "model_name": "LayoutModel",
          "model_module_version": "1.2.0",
          "state": {
            "_model_module": "@jupyter-widgets/base",
            "_model_module_version": "1.2.0",
            "_model_name": "LayoutModel",
            "_view_count": null,
            "_view_module": "@jupyter-widgets/base",
            "_view_module_version": "1.2.0",
            "_view_name": "LayoutView",
            "align_content": null,
            "align_items": null,
            "align_self": null,
            "border": null,
            "bottom": null,
            "display": null,
            "flex": null,
            "flex_flow": null,
            "grid_area": null,
            "grid_auto_columns": null,
            "grid_auto_flow": null,
            "grid_auto_rows": null,
            "grid_column": null,
            "grid_gap": null,
            "grid_row": null,
            "grid_template_areas": null,
            "grid_template_columns": null,
            "grid_template_rows": null,
            "height": null,
            "justify_content": null,
            "justify_items": null,
            "left": null,
            "margin": null,
            "max_height": null,
            "max_width": null,
            "min_height": null,
            "min_width": null,
            "object_fit": null,
            "object_position": null,
            "order": null,
            "overflow": null,
            "overflow_x": null,
            "overflow_y": null,
            "padding": null,
            "right": null,
            "top": null,
            "visibility": null,
            "width": null
          }
        },
        "80000c3390304f539dc00d20c24dd728": {
          "model_module": "@jupyter-widgets/base",
          "model_name": "LayoutModel",
          "model_module_version": "1.2.0",
          "state": {
            "_model_module": "@jupyter-widgets/base",
            "_model_module_version": "1.2.0",
            "_model_name": "LayoutModel",
            "_view_count": null,
            "_view_module": "@jupyter-widgets/base",
            "_view_module_version": "1.2.0",
            "_view_name": "LayoutView",
            "align_content": null,
            "align_items": null,
            "align_self": null,
            "border": null,
            "bottom": null,
            "display": null,
            "flex": null,
            "flex_flow": null,
            "grid_area": null,
            "grid_auto_columns": null,
            "grid_auto_flow": null,
            "grid_auto_rows": null,
            "grid_column": null,
            "grid_gap": null,
            "grid_row": null,
            "grid_template_areas": null,
            "grid_template_columns": null,
            "grid_template_rows": null,
            "height": null,
            "justify_content": null,
            "justify_items": null,
            "left": null,
            "margin": null,
            "max_height": null,
            "max_width": null,
            "min_height": null,
            "min_width": null,
            "object_fit": null,
            "object_position": null,
            "order": null,
            "overflow": null,
            "overflow_x": null,
            "overflow_y": null,
            "padding": null,
            "right": null,
            "top": null,
            "visibility": null,
            "width": null
          }
        },
        "5ab51b5ef4624409b5b7b1559dd6f05a": {
          "model_module": "@jupyter-widgets/controls",
          "model_name": "DescriptionStyleModel",
          "model_module_version": "1.5.0",
          "state": {
            "_model_module": "@jupyter-widgets/controls",
            "_model_module_version": "1.5.0",
            "_model_name": "DescriptionStyleModel",
            "_view_count": null,
            "_view_module": "@jupyter-widgets/base",
            "_view_module_version": "1.2.0",
            "_view_name": "StyleView",
            "description_width": ""
          }
        },
        "9a63571fb54e43109e46f8aea7cd567f": {
          "model_module": "@jupyter-widgets/base",
          "model_name": "LayoutModel",
          "model_module_version": "1.2.0",
          "state": {
            "_model_module": "@jupyter-widgets/base",
            "_model_module_version": "1.2.0",
            "_model_name": "LayoutModel",
            "_view_count": null,
            "_view_module": "@jupyter-widgets/base",
            "_view_module_version": "1.2.0",
            "_view_name": "LayoutView",
            "align_content": null,
            "align_items": null,
            "align_self": null,
            "border": null,
            "bottom": null,
            "display": null,
            "flex": null,
            "flex_flow": null,
            "grid_area": null,
            "grid_auto_columns": null,
            "grid_auto_flow": null,
            "grid_auto_rows": null,
            "grid_column": null,
            "grid_gap": null,
            "grid_row": null,
            "grid_template_areas": null,
            "grid_template_columns": null,
            "grid_template_rows": null,
            "height": null,
            "justify_content": null,
            "justify_items": null,
            "left": null,
            "margin": null,
            "max_height": null,
            "max_width": null,
            "min_height": null,
            "min_width": null,
            "object_fit": null,
            "object_position": null,
            "order": null,
            "overflow": null,
            "overflow_x": null,
            "overflow_y": null,
            "padding": null,
            "right": null,
            "top": null,
            "visibility": null,
            "width": null
          }
        },
        "d3849242dcd14415a5f4c0951a526223": {
          "model_module": "@jupyter-widgets/controls",
          "model_name": "ProgressStyleModel",
          "model_module_version": "1.5.0",
          "state": {
            "_model_module": "@jupyter-widgets/controls",
            "_model_module_version": "1.5.0",
            "_model_name": "ProgressStyleModel",
            "_view_count": null,
            "_view_module": "@jupyter-widgets/base",
            "_view_module_version": "1.2.0",
            "_view_name": "StyleView",
            "bar_color": null,
            "description_width": ""
          }
        },
        "ea75223255474cda8bac8c3783aa7589": {
          "model_module": "@jupyter-widgets/base",
          "model_name": "LayoutModel",
          "model_module_version": "1.2.0",
          "state": {
            "_model_module": "@jupyter-widgets/base",
            "_model_module_version": "1.2.0",
            "_model_name": "LayoutModel",
            "_view_count": null,
            "_view_module": "@jupyter-widgets/base",
            "_view_module_version": "1.2.0",
            "_view_name": "LayoutView",
            "align_content": null,
            "align_items": null,
            "align_self": null,
            "border": null,
            "bottom": null,
            "display": null,
            "flex": null,
            "flex_flow": null,
            "grid_area": null,
            "grid_auto_columns": null,
            "grid_auto_flow": null,
            "grid_auto_rows": null,
            "grid_column": null,
            "grid_gap": null,
            "grid_row": null,
            "grid_template_areas": null,
            "grid_template_columns": null,
            "grid_template_rows": null,
            "height": null,
            "justify_content": null,
            "justify_items": null,
            "left": null,
            "margin": null,
            "max_height": null,
            "max_width": null,
            "min_height": null,
            "min_width": null,
            "object_fit": null,
            "object_position": null,
            "order": null,
            "overflow": null,
            "overflow_x": null,
            "overflow_y": null,
            "padding": null,
            "right": null,
            "top": null,
            "visibility": null,
            "width": null
          }
        },
        "e19e8c287fb74ab6a9662cd37eb44a1e": {
          "model_module": "@jupyter-widgets/controls",
          "model_name": "DescriptionStyleModel",
          "model_module_version": "1.5.0",
          "state": {
            "_model_module": "@jupyter-widgets/controls",
            "_model_module_version": "1.5.0",
            "_model_name": "DescriptionStyleModel",
            "_view_count": null,
            "_view_module": "@jupyter-widgets/base",
            "_view_module_version": "1.2.0",
            "_view_name": "StyleView",
            "description_width": ""
          }
        }
      }
    },
    "accelerator": "GPU",
    "gpuClass": "standard"
  },
  "nbformat": 4,
  "nbformat_minor": 0
}